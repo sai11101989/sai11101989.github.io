{
 "cells": [
  {
   "cell_type": "markdown",
   "id": "0ffce4ce",
   "metadata": {},
   "source": [
    "# Title: Functions as Abstraction"
   ]
  },
  {
   "cell_type": "markdown",
   "id": "46fe61ad",
   "metadata": {},
   "source": [
    "# 1. Introducing the Need for Functions\n",
    "\n",
    "## The Three Pillars of Function Utility\n",
    "\n",
    "Functions are the building blocks of organized, maintainable code. They transform chaotic, repetitive scripts into structured, professional programs through three fundamental principles:\n",
    "\n",
    "**A- Reusability** - The \"Write Once, Use Everywhere\" Principle  \n",
    "When you find yourself copying and pasting the same logic in multiple places, you've identified a perfect candidate for a function. Functions encapsulate common operations, allowing you to debug and test them once, then deploy them anywhere needed. This not only saves development time but also ensures consistency - if you need to fix a bug or improve the logic, you only have to do it in one place.\n",
    "\n",
    "\n",
    "**Problem: Multiple Similar Calculations**"
   ]
  },
  {
   "cell_type": "markdown",
   "id": "52f6d689",
   "metadata": {},
   "source": [
    "```python\n",
    "# Without functions - repetitive, error-prone code\n",
    "# Calculate areas for different rooms\n",
    "room1_area = 12 * 15\n",
    "room2_area = 8 * 10  \n",
    "room3_area = 20 * 25\n",
    "\n",
    "# Calculate material costs\n",
    "room1_cost = room1_area * 2.5\n",
    "room2_cost = room2_area * 2.5\n",
    "room3_cost = room3_area * 2.5\n",
    "\n",
    "# Calculate painting costs\n",
    "room1_paint = room1_area * 1.75\n",
    "room2_paint = room2_area * 1.75\n",
    "room3_paint = room3_area * 1.75\n",
    "```"
   ]
  },
  {
   "cell_type": "markdown",
   "id": "fc8dad95",
   "metadata": {},
   "source": [
    "**Solution: Write Once, Use Everywhere**"
   ]
  },
  {
   "cell_type": "markdown",
   "id": "9206b63f",
   "metadata": {},
   "source": [
    "```python\n",
    "def calculate_area(length, width):\n",
    "    \"\"\"Calculate area of a rectangle\"\"\"\n",
    "    return length * width\n",
    "\n",
    "def calculate_material_cost(area, cost_per_sqft):\n",
    "    \"\"\"Calculate material cost for given area\"\"\"\n",
    "    return area * cost_per_sqft\n",
    "\n",
    "def calculate_painting_cost(area, paint_cost_per_sqft):\n",
    "    \"\"\"Calculate painting cost for given area\"\"\"\n",
    "    return area * paint_cost_per_sqft\n",
    "```"
   ]
  },
  {
   "cell_type": "markdown",
   "id": "d28ddf40",
   "metadata": {},
   "source": [
    "**B- Decomposition** - The \"Divide and Conquer\" Strategy  \n",
    "Complex problems become manageable when broken into smaller, focused pieces. Each function should have a single, clear responsibility. This approach makes code easier to understand, test, and maintain. Think of it like organizing a large project into specialized teams - each team handles one aspect of the problem.\n",
    "\n",
    " *   **Conquer Complexity Through Division:** Replace tangled monolithic dependencies with clean, focused modules that each solve a specific part of the problem\n",
    " *   **Establish Clear Boundaries:** Create stable interfaces between components to minimize coupling and maximize cohesion\n",
    " *   **Enable Parallel Development:** Allow multiple teams to work simultaneously on different modules without integration conflicts\n",
    " *   **Support Evolutionary Design:** Modify, replace, or scale individual components without destabilizing the entire system\n",
    " *   **Isolate Failure Domains:** Contain errors and changes within specific modules, preventing system-wide cascading failures\n",
    "\n",
    "#### Decomposition: Breaking Down Complexity"
   ]
  },
  {
   "cell_type": "markdown",
   "id": "1ec9d993",
   "metadata": {},
   "source": [
    "```\n",
    "COMPLEX PROBLEM: \"Calculate Student Final Grade\"\n",
    "│\n",
    "├── calculate_average(scores)\n",
    "│   └── Handles: Summing scores and dividing by count\n",
    "│\n",
    "├── apply_weighting(average, weight)\n",
    "│   └── Handles: Multiplying by percentage weight\n",
    "│\n",
    "├── calculate_final_grade(test_avg, hw_avg, project_avg)\n",
    "│   └── Handles: Combining weighted components\n",
    "│\n",
    "└── determine_letter_grade(numeric_grade)\n",
    "    └── Handles: Converting number to letter grade\n",
    "```"
   ]
  },
  {
   "cell_type": "markdown",
   "id": "13e5302e",
   "metadata": {},
   "source": [
    "Each function tackles one specific sub-problem, making the overall solution non monolithic and easier to understand and modify."
   ]
  },
  {
   "cell_type": "markdown",
   "id": "01c91984",
   "metadata": {},
   "source": [
    "**C- Abstraction** - The \"Black Box\" Concept \n",
    "\n",
    "Functions are powerful because they abstract away complexity, but their effectiveness hinges on one thing: **a clear statement of contract.**\n",
    "\n",
    " *   **The Contract is Key:** The only thing a user needs is a reliable promise of what the function requires (inputs) and what it will deliver (outputs).\n",
    " *   **Hidden Implementation:** How the function fulfills that contract is irrelevant to the user, allowing the internals to be changed or optimized without affecting other parts of the code.\n",
    " *   **Enables Collaboration:** This separation, enforced by the contract, allows team members to work on separate modules efficiently, relying on each other's interfaces without understanding the underlying details.\n",
    "\n",
    "\n",
    "#### Abstraction: Hiding Implementation Details"
   ]
  },
  {
   "cell_type": "markdown",
   "id": "3b9404d0",
   "metadata": {},
   "source": [
    "```\n",
    "USER'S VIEW (What they see)\n",
    "┌─────────────────────────────────┐\n",
    "│ calculate_final_grade(          │\n",
    "│   test_scores,                  │\n",
    "│   homework_scores,              │\n",
    "│   project_score                 │\n",
    "│ ) → \"A\"                         │\n",
    "└─────────────────────────────────┘\n",
    "         │\n",
    "         ▼\n",
    "INTERNAL WORKINGS (What they don't need to see)\n",
    "┌─────────────────────────────────────────────────┐\n",
    "│ def calculate_final_grade(...):                 │\n",
    "│   test_avg = sum(test_scores)/len(test_scores)  │\n",
    "│   hw_avg = sum(hw_scores)/len(hw_scores)       │\n",
    "│   weighted = (test_avg*0.5 + hw_avg*0.3 + ...) │\n",
    "│   return convert_to_letter(weighted)           │\n",
    "└─────────────────────────────────────────────────┘\n",
    "```"
   ]
  },
  {
   "cell_type": "markdown",
   "id": "e0bf9991",
   "metadata": {},
   "source": [
    "The user simply provides inputs and gets the expected output, without worrying about the complex calculations happening inside."
   ]
  },
  {
   "cell_type": "markdown",
   "id": "c64cff74",
   "metadata": {},
   "source": [
    "# 2. Defining and Calling Functions\n",
    "\n",
    "## Function Definition: The Blueprint\n",
    "\n",
    "A function definition creates a reusable block of code with a clear purpose and interface. Think of it as designing a blueprint before building.\n",
    "\n",
    "### Basic Syntax\n",
    "```python\n",
    "def function_name(parameter1, parameter2):\n",
    "    \"\"\"docstring - describes what the function does\"\"\"\n",
    "    # Function body - the actual code\n",
    "    result = parameter1 + parameter2\n",
    "    return result\n",
    "```\n",
    "\n",
    "**Key Components:**\n",
    "- `def`: The keyword that starts function definition\n",
    "- `function_name`: A descriptive name following Python naming conventions\n",
    "- `parameters`: Inputs the function expects (placeholders)\n",
    "- `docstring`: Optional documentation explaining the function's purpose\n",
    "- `function body`: The actual code that executes\n",
    "- `return`: Specifies what output the function produces\n",
    "\n",
    "### Practical Examples\n",
    "\n",
    "**Simple Calculation Function:**\n",
    "```python\n",
    "def calculate_total_price(quantity, unit_price):\n",
    "    \"\"\"Calculate total price given quantity and unit price\"\"\"\n",
    "    total = quantity * unit_price\n",
    "    return total\n",
    "```\n",
    "\n",
    "**Data Processing Function:**\n",
    "```python\n",
    "def prepare_student_record(name, age, grades):\n",
    "    \"\"\"Create a formatted student record\"\"\"\n",
    "    average_grade = sum(grades) / len(grades)\n",
    "    record = f\"Student: {name}, Age: {age}, Average: {average_grade:.2f}\"\n",
    "    return record\n",
    "```"
   ]
  },
  {
   "cell_type": "markdown",
   "id": "3a66905c",
   "metadata": {},
   "source": [
    "## Function Calls: Putting Blueprints to Work\n",
    "\n",
    "Calling a function executes its code with specific values. The formal parameters in the definition become arguments in the call.\n",
    "\n",
    "### Positional Arguments\n",
    "Arguments are matched to parameters based on their position/order."
   ]
  },
  {
   "cell_type": "code",
   "execution_count": 1,
   "id": "4ec9f34a",
   "metadata": {},
   "outputs": [
    {
     "name": "stdout",
     "output_type": "stream",
     "text": [
      "A blue rectangle 10x5 (area: 50)\n",
      "A red rectangle 5x10 (area: 50)\n"
     ]
    }
   ],
   "source": [
    "def create_rectangle(length, width, color):\n",
    "    \"\"\"Create a rectangle description\"\"\"\n",
    "    area = length * width\n",
    "    return f\"A {color} rectangle {length}x{width} (area: {area})\"\n",
    "\n",
    "# Positional arguments - order matters!\n",
    "rectangle1 = create_rectangle(10, 5, \"blue\")\n",
    "# length=10, width=5, color=\"blue\"\n",
    "\n",
    "rectangle2 = create_rectangle(5, 10, \"red\")  \n",
    "# length=5, width=10, color=\"red\"\n",
    "\n",
    "print(rectangle1)  # \"A blue rectangle 10x5 (area: 50)\"\n",
    "print(rectangle2)  # \"A red rectangle 5x10 (area: 50)\"\n"
   ]
  },
  {
   "cell_type": "markdown",
   "id": "5bfa6ae6",
   "metadata": {},
   "source": [
    "### Keyword Arguments\n",
    "Arguments are explicitly matched to parameters by name."
   ]
  },
  {
   "cell_type": "code",
   "execution_count": 2,
   "id": "90945068",
   "metadata": {},
   "outputs": [
    {
     "name": "stdout",
     "output_type": "stream",
     "text": [
      "A green rectangle 12x8 (area: 96)\n",
      "A yellow rectangle 15x6 (area: 90)\n"
     ]
    }
   ],
   "source": [
    "# Keyword arguments - order doesn't matter\n",
    "rectangle3 = create_rectangle(color=\"green\", width=8, length=12)\n",
    "rectangle4 = create_rectangle(length=15, color=\"yellow\", width=6)\n",
    "\n",
    "print(rectangle3)  # \"A green rectangle 12x8 (area: 96)\"\n",
    "print(rectangle4)  # \"A yellow rectangle 15x6 (area: 90)\""
   ]
  },
  {
   "cell_type": "markdown",
   "id": "270faace",
   "metadata": {},
   "source": [
    "### Mixed Arguments\n",
    "Positional arguments first, then keyword arguments."
   ]
  },
  {
   "cell_type": "code",
   "execution_count": 7,
   "id": "2ab3298e",
   "metadata": {},
   "outputs": [],
   "source": [
    "# Valid: positional then keyword\n",
    "rectangle5 = create_rectangle(10, 5, color=\"purple\")\n",
    "rectangle6 = create_rectangle(10, color=\"orange\", width=7)\n",
    "\n",
    "# Invalid: keyword then positional\n",
    "# rectangle7 = create_rectangle(length=10, 5, \"blue\")  # ERROR!\n"
   ]
  },
  {
   "cell_type": "markdown",
   "id": "8a970657",
   "metadata": {},
   "source": [
    "## Understanding Argument Behavior: Mutable vs Immutable\n",
    "\n",
    "### The Critical Distinction\n",
    "\n",
    "**Immutable Types:** Numbers, strings, tuples  \n",
    "- Cannot be changed after creation\n",
    "- Function receives a copy of the value\n",
    "- Original variable remains unchanged\n",
    "\n",
    "**Mutable Types:** Lists, dictionaries, sets  \n",
    "- Can be modified after creation  \n",
    "- Function receives a reference to the original object\n",
    "- Changes inside function affect the original"
   ]
  },
  {
   "cell_type": "markdown",
   "id": "587ce889",
   "metadata": {},
   "source": [
    "### Immutable Arguments Example"
   ]
  },
  {
   "cell_type": "code",
   "execution_count": 49,
   "id": "1ef3ee16",
   "metadata": {},
   "outputs": [
    {
     "name": "stdout",
     "output_type": "stream",
     "text": [
      "Inside function - before: score = 100\n",
      "Inside function - after: score = 120\n",
      "Outside function - original: 100\n",
      "Outside function - returned: 120\n"
     ]
    }
   ],
   "source": [
    "def update_score(score, bonus):\n",
    "    \"\"\"Add bonus to score - numbers are immutable\"\"\"\n",
    "    print(f\"Inside function - before: score = {score}\")\n",
    "    score = score + bonus  # Creates new number object\n",
    "    print(f\"Inside function - after: score = {score}\")\n",
    "    return score\n",
    "\n",
    "# Original remains unchanged\n",
    "original_score = 100\n",
    "new_score = update_score(original_score, 20)\n",
    "\n",
    "print(f\"Outside function - original: {original_score}\")  # 100\n",
    "print(f\"Outside function - returned: {new_score}\")       # 120\n"
   ]
  },
  {
   "cell_type": "markdown",
   "id": "7826c932",
   "metadata": {},
   "source": [
    "### Mutable Arguments Example"
   ]
  },
  {
   "cell_type": "code",
   "execution_count": 50,
   "id": "57e33a80",
   "metadata": {},
   "outputs": [
    {
     "name": "stdout",
     "output_type": "stream",
     "text": [
      "Before function: ['Alice', 'Bob']\n",
      "Inside function - before: ['Alice', 'Bob']\n",
      "Inside function - after: ['Alice', 'Bob', 'Charlie']\n",
      "After function: ['Alice', 'Bob', 'Charlie']\n"
     ]
    }
   ],
   "source": [
    "def add_student(roster, student_name):\n",
    "    \"\"\"Add student to roster - lists are mutable\"\"\"\n",
    "    print(f\"Inside function - before: {roster}\")\n",
    "    roster.append(student_name)  # Modifies the original list\n",
    "    print(f\"Inside function - after: {roster}\")\n",
    "\n",
    "# Original list gets modified!\n",
    "class_students = [\"Alice\", \"Bob\"]\n",
    "print(f\"Before function: {class_students}\")  # ['Alice', 'Bob']\n",
    "\n",
    "add_student(class_students, \"Charlie\")\n",
    "\n",
    "print(f\"After function: {class_students}\")   # ['Alice', 'Bob', 'Charlie']"
   ]
  },
  {
   "cell_type": "markdown",
   "id": "9e842971",
   "metadata": {},
   "source": [
    "## The Default Argument Pitfall"
   ]
  },
  {
   "cell_type": "markdown",
   "id": "cba08706",
   "metadata": {},
   "source": [
    "### Dangerous Pattern with Mutable Defaults"
   ]
  },
  {
   "cell_type": "code",
   "execution_count": 51,
   "id": "ed0cba27",
   "metadata": {},
   "outputs": [],
   "source": [
    "def add_to_history_bad(item, history=[]):\n",
    "    \"\"\"\n",
    "    DANGEROUS: Default list created only once when function is defined\n",
    "    Same list shared across all function calls!\n",
    "    \"\"\"\n",
    "    history.append(item)\n",
    "    return history"
   ]
  },
  {
   "cell_type": "code",
   "execution_count": 53,
   "id": "4608f0c2",
   "metadata": {},
   "outputs": [
    {
     "name": "stdout",
     "output_type": "stream",
     "text": [
      "First call: ['first call', 'first call']\n"
     ]
    }
   ],
   "source": [
    "# Demonstration of the problem\n",
    "list1 = add_to_history_bad(\"first call\")\n",
    "print(f\"First call: {list1}\")  # ['first call']"
   ]
  },
  {
   "cell_type": "code",
   "execution_count": 15,
   "id": "5c302eee",
   "metadata": {},
   "outputs": [
    {
     "name": "stdout",
     "output_type": "stream",
     "text": [
      "Second call: ['first call', 'second call']\n"
     ]
    }
   ],
   "source": [
    "list2 = add_to_history_bad(\"second call\")  \n",
    "print(f\"Second call: {list2}\")  # ['first call', 'second call'] - OOPS!"
   ]
  },
  {
   "cell_type": "code",
   "execution_count": 54,
   "id": "68543df7",
   "metadata": {},
   "outputs": [
    {
     "name": "stdout",
     "output_type": "stream",
     "text": [
      "Third call: ['first call', 'first call', 'third call']\n"
     ]
    }
   ],
   "source": [
    "list3 = add_to_history_bad(\"third call\")\n",
    "print(f\"Third call: {list3}\")  # ['first call', 'second call', 'third call']"
   ]
  },
  {
   "cell_type": "markdown",
   "id": "eb91f727",
   "metadata": {},
   "source": [
    "### Safe Pattern with None Check"
   ]
  },
  {
   "cell_type": "code",
   "execution_count": 17,
   "id": "7a75cd15",
   "metadata": {},
   "outputs": [],
   "source": [
    "def add_to_history_good(item, history=None):\n",
    "    \"\"\"\n",
    "    SAFE: Create new list each time if none provided\n",
    "    Uses None as default, creates new list when needed\n",
    "    \"\"\"\n",
    "    if history is None:\n",
    "        history = []  # New list created for each call\n",
    "    history.append(item)\n",
    "    return history"
   ]
  },
  {
   "cell_type": "code",
   "execution_count": 18,
   "id": "0d8e5a5d",
   "metadata": {},
   "outputs": [
    {
     "name": "stdout",
     "output_type": "stream",
     "text": [
      "First call: ['first call']\n"
     ]
    }
   ],
   "source": [
    "# Now it works correctly\n",
    "list1 = add_to_history_good(\"first call\")\n",
    "print(f\"First call: {list1}\")  # ['first call']"
   ]
  },
  {
   "cell_type": "code",
   "execution_count": 19,
   "id": "fd5009d0",
   "metadata": {},
   "outputs": [
    {
     "name": "stdout",
     "output_type": "stream",
     "text": [
      "Second call: ['second call']\n"
     ]
    }
   ],
   "source": [
    "list2 = add_to_history_good(\"second call\")  \n",
    "print(f\"Second call: {list2}\")  # ['second call'] - Correct!"
   ]
  },
  {
   "cell_type": "code",
   "execution_count": 20,
   "id": "acd99030",
   "metadata": {},
   "outputs": [
    {
     "name": "stdout",
     "output_type": "stream",
     "text": [
      "Third call: ['third call']\n"
     ]
    }
   ],
   "source": [
    "list3 = add_to_history_good(\"third call\")\n",
    "print(f\"Third call: {list3}\")  # ['third call'] - Correct!"
   ]
  },
  {
   "cell_type": "markdown",
   "id": "942289f2",
   "metadata": {},
   "source": [
    "## Key Takeaways\n",
    "\n",
    "- **Define functions** with `def`, descriptive names, and clear parameters\n",
    "- **Call functions** with positional or keyword arguments\n",
    "- **Positional arguments** must come before keyword arguments\n",
    "- **Immutable arguments** (numbers, strings) create copies - originals unchanged\n",
    "- **Mutable arguments** (lists, dictionaries) use references - originals can be modified\n",
    "- **Always use `None`** for mutable default parameters to avoid shared state issues"
   ]
  },
  {
   "cell_type": "markdown",
   "id": "749674c0",
   "metadata": {},
   "source": [
    "# 3. Return Values and Multiple Returns\n",
    "\n",
    "## The Return Statement: Function Output\n",
    "\n",
    "The `return` statement is how functions communicate results back to the caller. It immediately exits the function and passes back specified values."
   ]
  },
  {
   "cell_type": "markdown",
   "id": "1a3918d5",
   "metadata": {},
   "source": [
    "### Explicit vs Implicit Return"
   ]
  },
  {
   "cell_type": "markdown",
   "id": "66c51a7b",
   "metadata": {},
   "source": [
    "**Explicit Return:** Function specifies exactly what to return"
   ]
  },
  {
   "cell_type": "code",
   "execution_count": 21,
   "id": "50d15191",
   "metadata": {},
   "outputs": [],
   "source": [
    "def calculate_discount(price, discount_percent):\n",
    "    \"\"\"Calculate final price after discount\"\"\"\n",
    "    discount_amount = price * (discount_percent / 100)\n",
    "    final_price = price - discount_amount\n",
    "    return final_price  # Explicitly returns the calculated value\n"
   ]
  },
  {
   "cell_type": "markdown",
   "id": "fe0479df",
   "metadata": {},
   "source": [
    "**Implicit Return:** No return statement → function returns `None`"
   ]
  },
  {
   "cell_type": "code",
   "execution_count": 55,
   "id": "23c91f0f",
   "metadata": {},
   "outputs": [
    {
     "name": "stdout",
     "output_type": "stream",
     "text": [
      "Original: $100\n",
      "Discount: $20.00\n",
      "Final: $80.00\n",
      "Function returned: None\n"
     ]
    }
   ],
   "source": [
    "def display_receipt(price, discount_percent):\n",
    "    \"\"\"Display receipt but don't return any value\"\"\"\n",
    "    discount_amount = price * (discount_percent / 100)\n",
    "    final_price = price - discount_amount\n",
    "    print(f\"Original: ${price}\")\n",
    "    print(f\"Discount: ${discount_amount:.2f}\")\n",
    "    print(f\"Final: ${final_price:.2f}\")\n",
    "    # No return statement → returns None automatically\n",
    "\n",
    "result = display_receipt(100, 20)\n",
    "# Shows receipt printout\n",
    "print(f\"Function returned: {result}\")  # None"
   ]
  },
  {
   "cell_type": "markdown",
   "id": "1551fd13",
   "metadata": {},
   "source": [
    "## Default Return Value: None\n",
    "\n",
    "When a function doesn't have a `return` statement, or has a `return` without any value, Python automatically returns `None`."
   ]
  },
  {
   "cell_type": "code",
   "execution_count": 23,
   "id": "d69a95ec",
   "metadata": {},
   "outputs": [
    {
     "name": "stdout",
     "output_type": "stream",
     "text": [
      "Performed calculation on 42\n",
      "True\n",
      "True\n"
     ]
    }
   ],
   "source": [
    "def log_operation(operation, value):\n",
    "    \"\"\"Log operations without returning anything\"\"\"\n",
    "    print(f\"Performed {operation} on {value}\")\n",
    "    # No return statement → returns None\n",
    "\n",
    "def process_data(data):\n",
    "    \"\"\"Sometimes return data, sometimes not\"\"\"\n",
    "    if not data:\n",
    "        return  # Returns None explicitly\n",
    "    # Process data...\n",
    "    return processed_data\n",
    "\n",
    "# Both return None\n",
    "result1 = log_operation(\"calculation\", 42)\n",
    "result2 = process_data([])\n",
    "\n",
    "print(result1 is None)  # True\n",
    "print(result2 is None)  # True"
   ]
  },
  {
   "cell_type": "markdown",
   "id": "48b6f8a2",
   "metadata": {},
   "source": [
    "## Multiple Return Paths\n",
    "\n",
    "Functions can have multiple `return` statements, but only one will execute per function call. The first `return` encountered ends the function."
   ]
  },
  {
   "cell_type": "markdown",
   "id": "f6aa4aa1",
   "metadata": {},
   "source": [
    "### Conditional Returns"
   ]
  },
  {
   "cell_type": "code",
   "execution_count": 56,
   "id": "886fae30",
   "metadata": {},
   "outputs": [
    {
     "name": "stdout",
     "output_type": "stream",
     "text": [
      "Too hot! Stay indoors.\n",
      "Freezing! Wear warm clothes.\n",
      "Warm and pleasant.\n"
     ]
    }
   ],
   "source": [
    "def check_temperature(temp):\n",
    "    \"\"\"Return different messages based on temperature\"\"\"\n",
    "    if temp > 90:\n",
    "        return \"Too hot! Stay indoors.\"\n",
    "    elif temp < 32:\n",
    "        return \"Freezing! Wear warm clothes.\"\n",
    "    elif temp > 75:\n",
    "        return \"Warm and pleasant.\"\n",
    "    else:\n",
    "        return \"Comfortable weather.\"\n",
    "\n",
    "# Only one return executes per call\n",
    "message1 = check_temperature(95)  # \"Too hot! Stay indoors.\"\n",
    "message2 = check_temperature(20)  # \"Freezing! Wear warm clothes.\"\n",
    "message3 = check_temperature(80)  # \"Warm and pleasant.\"\n",
    "\n",
    "print(message1)\n",
    "print(message2)\n",
    "print(message3)"
   ]
  },
  {
   "cell_type": "markdown",
   "id": "1051ee83",
   "metadata": {},
   "source": [
    "### Early Returns for Validation"
   ]
  },
  {
   "cell_type": "code",
   "execution_count": 32,
   "id": "5febdb5a",
   "metadata": {},
   "outputs": [
    {
     "name": "stdout",
     "output_type": "stream",
     "text": [
      "Invalid average\n",
      "Invalid average\n",
      "B\n"
     ]
    }
   ],
   "source": [
    "def calculate_grade(average):\n",
    "    \"\"\"Use early returns for input validation\"\"\"\n",
    "    if average < 0 or average > 100:\n",
    "        return \"Invalid average\"  # Early return for bad input\n",
    "    \n",
    "    if average >= 90:\n",
    "        return \"A\"\n",
    "    elif average >= 80:\n",
    "        return \"B\" \n",
    "    elif average >= 70:\n",
    "        return \"C\"\n",
    "    elif average >= 60:\n",
    "        return \"D\"\n",
    "    else:\n",
    "        return \"F\"\n",
    "\n",
    "# Early return prevents main logic from running\n",
    "result1 = calculate_grade(-5)    # \"Invalid average\"\n",
    "result2 = calculate_grade(150)   # \"Invalid average\" \n",
    "result3 = calculate_grade(85)    # \"B\"\n",
    "\n",
    "print(result1)\n",
    "print(result2)\n",
    "print(result)"
   ]
  },
  {
   "cell_type": "markdown",
   "id": "b327b0f3",
   "metadata": {},
   "source": [
    "## Returning Multiple Values\n",
    "\n",
    "Python allows returning multiple values from a single function. Behind the scenes, these values are automatically packaged into a tuple."
   ]
  },
  {
   "cell_type": "markdown",
   "id": "6a388120",
   "metadata": {},
   "source": [
    "### Automatic Tuple Packaging"
   ]
  },
  {
   "cell_type": "code",
   "execution_count": 33,
   "id": "4118be80",
   "metadata": {},
   "outputs": [
    {
     "name": "stdout",
     "output_type": "stream",
     "text": [
      "Average: 87.8, High: 96, Low: 78\n",
      "Type: <class 'tuple'>\n",
      "All results: (87.8, 96, 78)\n"
     ]
    }
   ],
   "source": [
    "def analyze_scores(scores):\n",
    "    \"\"\"Return multiple statistics about scores\"\"\"\n",
    "    if not scores:  # Handle empty list\n",
    "        return 0, 0, 0  # Returns tuple (0, 0, 0)\n",
    "    \n",
    "    average = sum(scores) / len(scores)\n",
    "    highest = max(scores)\n",
    "    lowest = min(scores)\n",
    "    \n",
    "    return average, highest, lowest  # Returns tuple (average, highest, lowest)\n",
    "\n",
    "# Calling and unpacking\n",
    "avg, high, low = analyze_scores([85, 92, 78, 96, 88])\n",
    "print(f\"Average: {avg:.1f}, High: {high}, Low: {low}\")\n",
    "# Average: 87.8, High: 96, Low: 78\n",
    "\n",
    "# You can also capture as a single tuple\n",
    "results = analyze_scores([85, 92, 78, 96, 88])\n",
    "print(f\"Type: {type(results)}\")  # <class 'tuple'>\n",
    "print(f\"All results: {results}\") # (87.8, 96, 78)"
   ]
  },
  {
   "cell_type": "markdown",
   "id": "b199d7e4",
   "metadata": {},
   "source": [
    "## Key Takeaways\n",
    "\n",
    "- **`return`** immediately exits the function and sends back values\n",
    "- **No `return` statement** → function automatically returns `None`\n",
    "- **Multiple `return` statements** are allowed, but only one executes per call\n",
    "- **Early returns** are useful for input validation and edge cases\n",
    "- **Multiple values** can be returned and are automatically packaged as tuples\n",
    "- **Unpack returned tuples** into separate variables for clean code"
   ]
  },
  {
   "cell_type": "markdown",
   "id": "d4557002",
   "metadata": {},
   "source": [
    "# 4. Documentation Strings: The Function Contract\n",
    "\n",
    "## What Are Docstrings?\n",
    "\n",
    "Docstrings are special strings that document your functions, classes, and modules. They serve as a natural language contract between the function implementer and the function user, explaining what the function does without requiring the user to understand how it works internally.\n",
    "\n",
    "### The Docstring Syntax\n",
    "\n",
    "Docstrings are placed immediately after the function definition, enclosed in triple quotes:\n",
    "\n",
    "```python\n",
    "def calculate_compound_interest(principal, rate, years):\n",
    "    \"\"\"\n",
    "    Calculate the future value of an investment with compound interest.\n",
    "    \n",
    "    This function computes how much an initial investment will grow\n",
    "    over time when interest is compounded annually.\n",
    "    \n",
    "    Parameters:\n",
    "    principal (float): The initial investment amount\n",
    "    rate (float): Annual interest rate as percentage (e.g., 5 for 5%)\n",
    "    years (int): Number of years the money is invested\n",
    "    \n",
    "    Returns:\n",
    "    float: The total amount after compound interest\n",
    "    \n",
    "    Raises:\n",
    "    ValueError: If principal is negative or years is less than 1\n",
    "    \n",
    "    Example:\n",
    "    >>> calculate_compound_interest(1000, 5, 10)\n",
    "    1628.89\n",
    "    >>> calculate_compound_interest(500, 3.5, 5)\n",
    "    593.84\n",
    "    \"\"\"\n",
    "    if principal < 0:\n",
    "        raise ValueError(\"Principal cannot be negative\")\n",
    "    if years < 1:\n",
    "        raise ValueError(\"Investment period must be at least 1 year\")\n",
    "    \n",
    "    decimal_rate = rate / 100\n",
    "    amount = principal * (1 + decimal_rate) ** years\n",
    "    return round(amount, 2)\n",
    "```"
   ]
  },
  {
   "cell_type": "markdown",
   "id": "13596351",
   "metadata": {},
   "source": [
    "## Why Docstrings Matter\n",
    "\n",
    "### 1. Communication Bridge\n",
    "Docstrings help other developers (and your future self) understand:\n",
    "- **What** the function does\n",
    "- **What inputs** it expects and what types they should be\n",
    "- **What output** it produces\n",
    "- **Any special cases** or error conditions\n",
    "\n",
    "### 2. Self-Documenting Code"
   ]
  },
  {
   "cell_type": "code",
   "execution_count": 35,
   "id": "7e67e6ee",
   "metadata": {},
   "outputs": [],
   "source": [
    "def calculate_grade(scores, weights=None):\n",
    "    \"\"\"\n",
    "    Calculate weighted average grade from multiple assignment scores.\n",
    "    \n",
    "    This function handles both simple averages and weighted averages\n",
    "    where different assignments contribute different percentages to\n",
    "    the final grade.\n",
    "    \n",
    "    Parameters:\n",
    "    scores (list): List of numerical scores (0-100 scale)\n",
    "    weights (list, optional): List of weights corresponding to each score.\n",
    "                             If not provided, equal weighting is used.\n",
    "                             Weights should sum to 1.0 (100%).\n",
    "    \n",
    "    Returns:\n",
    "    float: The final weighted average grade\n",
    "    \n",
    "    Raises:\n",
    "    ValueError: If scores and weights lists have different lengths\n",
    "    ValueError: If weights don't sum to approximately 1.0 (±0.01)\n",
    "    \n",
    "    Example:\n",
    "    >>> calculate_grade([90, 85, 95])\n",
    "    90.0\n",
    "    >>> calculate_grade([90, 85, 95], [0.3, 0.3, 0.4])\n",
    "    89.5\n",
    "    \"\"\"\n",
    "    if weights is None:\n",
    "        return sum(scores) / len(scores)\n",
    "    \n",
    "    if len(scores) != len(weights):\n",
    "        raise ValueError(\"Scores and weights must have same length\")\n",
    "    \n",
    "    if abs(sum(weights) - 1.0) > 0.01:\n",
    "        raise ValueError(\"Weights must sum to 1.0\")\n",
    "    \n",
    "    weighted_sum = sum(score * weight for score, weight in zip(scores, weights))\n",
    "    return round(weighted_sum, 2)"
   ]
  },
  {
   "cell_type": "markdown",
   "id": "28c2a6c5",
   "metadata": {},
   "source": [
    "## Accessing Documentation\n",
    "\n",
    "### Using Built-in Help Functions"
   ]
  },
  {
   "cell_type": "code",
   "execution_count": 37,
   "id": "daf7bbfe",
   "metadata": {},
   "outputs": [
    {
     "name": "stdout",
     "output_type": "stream",
     "text": [
      "\n",
      "    Calculate weighted average grade from multiple assignment scores.\n",
      "    \n",
      "    This function handles both simple averages and weighted averages\n",
      "    where different assignments contribute different percentages to\n",
      "    the final grade.\n",
      "    \n",
      "    Parameters:\n",
      "    scores (list): List of numerical scores (0-100 scale)\n",
      "    weights (list, optional): List of weights corresponding to each score.\n",
      "                             If not provided, equal weighting is used.\n",
      "                             Weights should sum to 1.0 (100%).\n",
      "    \n",
      "    Returns:\n",
      "    float: The final weighted average grade\n",
      "    \n",
      "    Raises:\n",
      "    ValueError: If scores and weights lists have different lengths\n",
      "    ValueError: If weights don't sum to approximately 1.0 (±0.01)\n",
      "    \n",
      "    Example:\n",
      "    >>> calculate_grade([90, 85, 95])\n",
      "    90.0\n",
      "    >>> calculate_grade([90, 85, 95], [0.3, 0.3, 0.4])\n",
      "    89.5\n",
      "    \n"
     ]
    }
   ],
   "source": [
    "# Access docstring directly\n",
    "print(calculate_grade.__doc__)"
   ]
  },
  {
   "cell_type": "code",
   "execution_count": 38,
   "id": "c953ffe8",
   "metadata": {},
   "outputs": [
    {
     "name": "stdout",
     "output_type": "stream",
     "text": [
      "Help on function calculate_grade in module __main__:\n",
      "\n",
      "calculate_grade(scores, weights=None)\n",
      "    Calculate weighted average grade from multiple assignment scores.\n",
      "    \n",
      "    This function handles both simple averages and weighted averages\n",
      "    where different assignments contribute different percentages to\n",
      "    the final grade.\n",
      "    \n",
      "    Parameters:\n",
      "    scores (list): List of numerical scores (0-100 scale)\n",
      "    weights (list, optional): List of weights corresponding to each score.\n",
      "                             If not provided, equal weighting is used.\n",
      "                             Weights should sum to 1.0 (100%).\n",
      "    \n",
      "    Returns:\n",
      "    float: The final weighted average grade\n",
      "    \n",
      "    Raises:\n",
      "    ValueError: If scores and weights lists have different lengths\n",
      "    ValueError: If weights don't sum to approximately 1.0 (±0.01)\n",
      "    \n",
      "    Example:\n",
      "    >>> calculate_grade([90, 85, 95])\n",
      "    90.0\n",
      "    >>> calculate_grade([90, 85, 95], [0.3, 0.3, 0.4])\n",
      "    89.5\n",
      "\n"
     ]
    }
   ],
   "source": [
    "# Use the help() function - more user-friendly\n",
    "help(calculate_grade)"
   ]
  },
  {
   "cell_type": "markdown",
   "id": "e4a0e788",
   "metadata": {},
   "source": [
    "## Docstring Best Practices\n",
    "\n",
    "### 1. Be Clear and Concise\n",
    "```python\n",
    "# GOOD: Clear and specific\n",
    "def find_highest_score(scores):\n",
    "    \"\"\"\n",
    "    Find the highest score in a list of numerical scores.\n",
    "    \n",
    "    Parameters:\n",
    "    scores (list): List of numbers representing scores\n",
    "    \n",
    "    Returns:\n",
    "    float or None: The highest score, or None if list is empty\n",
    "    \"\"\"\n",
    "    if not scores:\n",
    "        return None\n",
    "    return max(scores)\n",
    "\n",
    "# BAD: Vague and unhelpful\n",
    "def process_data(data):\n",
    "    \"\"\"Process some data.\"\"\"\n",
    "    return data * 2\n",
    "```\n",
    "\n",
    "### 2. Include Examples\n",
    "```python\n",
    "def apply_discount(price, discount_percent, member=False):\n",
    "    \"\"\"\n",
    "    Apply discount to price, with optional member bonus.\n",
    "    \n",
    "    Parameters:\n",
    "    price (float): Original price\n",
    "    discount_percent (float): Discount percentage (0-100)\n",
    "    member (bool): Whether customer is a member (extra 5% off)\n",
    "    \n",
    "    Returns:\n",
    "    float: Final price after all discounts\n",
    "    \n",
    "    Example:\n",
    "    >>> apply_discount(100, 10)\n",
    "    90.0\n",
    "    >>> apply_discount(100, 10, True)\n",
    "    85.5\n",
    "    >>> apply_discount(50, 20, False)\n",
    "    40.0\n",
    "    \"\"\"\n",
    "    discount_amount = price * (discount_percent / 100)\n",
    "    discounted_price = price - discount_amount\n",
    "    \n",
    "    if member:\n",
    "        discounted_price *= 0.95  # Additional 5% off for members\n",
    "        \n",
    "    return round(discounted_price, 2)\n",
    "```\n",
    "\n",
    "### 3. Document Edge Cases\n",
    "```python\n",
    "def calculate_average(scores):\n",
    "    \"\"\"\n",
    "    Calculate the average of a list of scores.\n",
    "    \n",
    "    Handles empty lists and ensures robust calculation\n",
    "    even with unusual input values.\n",
    "    \n",
    "    Parameters:\n",
    "    scores (list): List of numerical scores\n",
    "    \n",
    "    Returns:\n",
    "    float or None: Average score, or None if list is empty\n",
    "    \n",
    "    Note:\n",
    "    - Returns None for empty lists instead of raising error\n",
    "    - Handles both integer and float scores\n",
    "    - Ignores None values in the list\n",
    "    \n",
    "    Example:\n",
    "    >>> calculate_average([85, 92, 78])\n",
    "    85.0\n",
    "    >>> calculate_average([])\n",
    "    None\n",
    "    >>> calculate_average([100, None, 80])\n",
    "    90.0\n",
    "    \"\"\"\n",
    "    valid_scores = [score for score in scores if score is not None]\n",
    "    \n",
    "    if not valid_scores:\n",
    "        return None\n",
    "        \n",
    "    return sum(valid_scores) / len(valid_scores)\n",
    "```"
   ]
  },
  {
   "cell_type": "markdown",
   "id": "5e324d6d",
   "metadata": {},
   "source": [
    "## Real-World Benefits\n",
    "\n",
    "### 1. Maintenance and Bug Fixing\n",
    "\n",
    "\n",
    "### 2. Team Collaboration\n",
    "When working in teams, docstrings become essential for:\n",
    "- **Onboarding new team members**\n",
    "- **Code reviews** - reviewers understand intent without guessing\n",
    "- **API documentation** - automatic documentation generation\n",
    "- **Knowledge sharing** \n",
    "\n",
    "### 3. LLM and AI Assistance\n",
    "Recent research shows that comprehensive docstrings:\n",
    "- **Help AI tools** understand code intent for better suggestions\n",
    "- **Enable automated testing** by clarifying expected behavior\n",
    "- **Facilitate code generation** from specifications\n",
    "- **Improve bug detection** by providing context to analysis tools\n",
    "\n",
    "\n",
    "## Key Takeaways\n",
    "\n",
    "- **Docstrings are triple-quoted strings** immediately after function definitions\n",
    "- **They serve as natural language contracts** between implementers and users\n",
    "- **Use `help(function_name)`** to view documentation\n",
    "- **Good docstrings include**: purpose, parameters, return values, examples\n",
    "- **They are essential for maintenance**, team collaboration, and AI assistance\n",
    "- **Well-documented code is more maintainable** and less prone to errors\n",
    "- **Think of docstrings as instructions** for your future self and colleagues\n",
    "\n",
    "**Remember:** The time you invest in writing good documentation will save you hours of debugging and confusion later!"
   ]
  },
  {
   "cell_type": "markdown",
   "id": "f2c21f13",
   "metadata": {},
   "source": [
    "# 5. Functions as First-Class Objects\n",
    "\n",
    "## The \"Functions Can Appear Anywhere\" Principle\n",
    "\n",
    "In Python, functions are **first-class objects**. This means they can be treated like any other data type - assigned to variables, stored in data structures, passed as arguments to other functions, and returned as values from functions.\n",
    "\n",
    "### What Makes Functions First-Class?\n",
    "\n",
    "1. **Can be assigned to variables**\n",
    "2. **Can be stored in data structures** (lists, dictionaries, etc.)\n",
    "3. **Can be passed as arguments** to other functions\n",
    "4. **Can be returned as values** from other functions"
   ]
  },
  {
   "cell_type": "markdown",
   "id": "becf355b",
   "metadata": {},
   "source": [
    "## Assigning Functions to Variables"
   ]
  },
  {
   "cell_type": "markdown",
   "id": "98892e41",
   "metadata": {},
   "source": [
    "### Basic Function Assignment"
   ]
  },
  {
   "cell_type": "code",
   "execution_count": 39,
   "id": "96d31176",
   "metadata": {},
   "outputs": [
    {
     "name": "stdout",
     "output_type": "stream",
     "text": [
      "Tax: $8.50\n",
      "Final price: $45.00\n"
     ]
    }
   ],
   "source": [
    "def calculate_tax(amount, tax_rate):\n",
    "    \"\"\"Calculate tax for a given amount\"\"\"\n",
    "    return amount * (tax_rate / 100)\n",
    "\n",
    "def calculate_discount(amount, discount_percent):\n",
    "    \"\"\"Calculate discounted price\"\"\"\n",
    "    discount = amount * (discount_percent / 100)\n",
    "    return amount - discount\n",
    "\n",
    "# Assign functions to variables - no parentheses!\n",
    "tax_calculator = calculate_tax\n",
    "discount_calculator = calculate_discount\n",
    "\n",
    "# Use the variables exactly like the original functions\n",
    "tax_amount = tax_calculator(100, 8.5)        # Same as calculate_tax(100, 8.5)\n",
    "final_price = discount_calculator(50, 10)    # Same as calculate_discount(50, 10)\n",
    "\n",
    "print(f\"Tax: ${tax_amount:.2f}\")            # Tax: $8.50\n",
    "print(f\"Final price: ${final_price:.2f}\")   # Final price: $45.00"
   ]
  },
  {
   "cell_type": "markdown",
   "id": "c1793f5d",
   "metadata": {},
   "source": [
    "### Dynamic Dispatch Example"
   ]
  },
  {
   "cell_type": "code",
   "execution_count": 40,
   "id": "5e27eae0",
   "metadata": {},
   "outputs": [
    {
     "name": "stdout",
     "output_type": "stream",
     "text": [
      "10 multiply 5 = 50\n"
     ]
    }
   ],
   "source": [
    "def add(a, b):\n",
    "    return a + b\n",
    "\n",
    "def multiply(a, b):\n",
    "    return a * b\n",
    "\n",
    "def subtract(a, b):\n",
    "    return a - b\n",
    "\n",
    "# Dictionary mapping operation names to functions\n",
    "operations = {\n",
    "    'add': add,\n",
    "    'multiply': multiply, \n",
    "    'subtract': subtract\n",
    "}\n",
    "\n",
    "# User chooses operation\n",
    "user_choice = 'multiply'\n",
    "selected_operation = operations[user_choice]\n",
    "\n",
    "# Execute chosen operation dynamically\n",
    "result = selected_operation(10, 5)\n",
    "print(f\"10 {user_choice} 5 = {result}\")  # 10 multiply 5 = 50"
   ]
  },
  {
   "cell_type": "markdown",
   "id": "7bf6b565",
   "metadata": {},
   "source": [
    "## Functions in Data Structures"
   ]
  },
  {
   "cell_type": "markdown",
   "id": "f7823f17",
   "metadata": {},
   "source": [
    "### Lists of Functions"
   ]
  },
  {
   "cell_type": "code",
   "execution_count": 41,
   "id": "ab8f85f0",
   "metadata": {},
   "outputs": [
    {
     "name": "stdout",
     "output_type": "stream",
     "text": [
      "double(5) = 10\n",
      "triple(5) = 15\n",
      "square(5) = 25\n"
     ]
    }
   ],
   "source": [
    "def double(x):\n",
    "    return x * 2\n",
    "\n",
    "def triple(x):\n",
    "    return x * 3\n",
    "\n",
    "def square(x):\n",
    "    return x ** 2\n",
    "\n",
    "# Create a list of functions\n",
    "transformations = [double, triple, square]\n",
    "\n",
    "number = 5\n",
    "\n",
    "# Apply each function to the same number\n",
    "for transform in transformations:\n",
    "    result = transform(number)\n",
    "    print(f\"{transform.__name__}({number}) = {result}\")\n",
    "\n",
    "# Output:\n",
    "# double(5) = 10\n",
    "# triple(5) = 15  \n",
    "# square(5) = 25"
   ]
  },
  {
   "cell_type": "markdown",
   "id": "20462490",
   "metadata": {},
   "source": [
    "### Dictionaries of Functions"
   ]
  },
  {
   "cell_type": "code",
   "execution_count": 42,
   "id": "c6e50b40",
   "metadata": {},
   "outputs": [
    {
     "name": "stdout",
     "output_type": "stream",
     "text": [
      "Original: $100, Final: $80.0\n"
     ]
    }
   ],
   "source": [
    "def apply_standard_discount(price):\n",
    "    return price * 0.9  # 10% off\n",
    "\n",
    "def apply_premium_discount(price):\n",
    "    return price * 0.8  # 20% off\n",
    "\n",
    "def apply_clearance_discount(price):\n",
    "    return price * 0.5  # 50% off\n",
    "\n",
    "# Dictionary mapping discount types to functions\n",
    "discount_strategies = {\n",
    "    'standard': apply_standard_discount,\n",
    "    'premium': apply_premium_discount,\n",
    "    'clearance': apply_clearance_discount\n",
    "}\n",
    "\n",
    "# Apply different discount strategies\n",
    "price = 100\n",
    "customer_type = 'premium'\n",
    "\n",
    "final_price = discount_strategies[customer_type](price)\n",
    "print(f\"Original: ${price}, Final: ${final_price}\")  # Original: $100, Final: $80.0"
   ]
  },
  {
   "cell_type": "markdown",
   "id": "68c21307",
   "metadata": {},
   "source": [
    "## Passing Functions as Arguments\n",
    "\n",
    "### The Power of Higher-Order Functions\n",
    "\n",
    "**Higher-order functions** are functions that either:\n",
    "- Take other functions as arguments, OR\n",
    "- Return functions as results"
   ]
  },
  {
   "cell_type": "code",
   "execution_count": 43,
   "id": "75e35310",
   "metadata": {},
   "outputs": [
    {
     "name": "stdout",
     "output_type": "stream",
     "text": [
      "Original: [1, 2, 3, 4, 5]\n",
      "Incremented: [2, 3, 4, 5, 6]\n",
      "Decremented: [0, 1, 2, 3, 4]\n",
      "Negated: [-1, -2, -3, -4, -5]\n"
     ]
    }
   ],
   "source": [
    "def process_numbers(numbers, operation):\n",
    "    \"\"\"\n",
    "    Apply an operation to each number in a list.\n",
    "    \n",
    "    Parameters:\n",
    "    numbers (list): List of numbers to process\n",
    "    operation (function): Function to apply to each number\n",
    "    \n",
    "    Returns:\n",
    "    list: Results after applying the operation\n",
    "    \"\"\"\n",
    "    results = []\n",
    "    for number in numbers:\n",
    "        results.append(operation(number))\n",
    "    return results\n",
    "\n",
    "# Define some simple operations\n",
    "def increment(x):\n",
    "    return x + 1\n",
    "\n",
    "def decrement(x):\n",
    "    return x - 1\n",
    "\n",
    "def make_negative(x):\n",
    "    return -x\n",
    "\n",
    "# Use the same higher-order function with different operations\n",
    "numbers = [1, 2, 3, 4, 5]\n",
    "\n",
    "incremented = process_numbers(numbers, increment)\n",
    "decremented = process_numbers(numbers, decrement)\n",
    "negated = process_numbers(numbers, make_negative)\n",
    "\n",
    "print(f\"Original: {numbers}\")        # [1, 2, 3, 4, 5]\n",
    "print(f\"Incremented: {incremented}\") # [2, 3, 4, 5, 6]\n",
    "print(f\"Decremented: {decremented}\") # [0, 1, 2, 3, 4]\n",
    "print(f\"Negated: {negated}\")         # [-1, -2, -3, -4, -5]"
   ]
  },
  {
   "cell_type": "markdown",
   "id": "c74b8b9f",
   "metadata": {},
   "source": [
    "## Built-in Higher-Order Functions\n",
    "\n",
    "### Map: Transform Each Element"
   ]
  },
  {
   "cell_type": "code",
   "execution_count": 44,
   "id": "61140d29",
   "metadata": {},
   "outputs": [
    {
     "name": "stdout",
     "output_type": "stream",
     "text": [
      "Map result: [6, 7, 8, 9, 10]\n",
      "Map with lambda: [6, 7, 8, 9, 10]\n"
     ]
    }
   ],
   "source": [
    "numbers = [1, 2, 3, 4, 5]\n",
    "\n",
    "# Using map with a named function\n",
    "def add_five(x):\n",
    "    return x + 5\n",
    "\n",
    "result_map = list(map(add_five, numbers))\n",
    "print(f\"Map result: {result_map}\")  # [6, 7, 8, 9, 10]\n",
    "\n",
    "# More concise with lambda (we'll cover this next)\n",
    "result_map_lambda = list(map(lambda x: x + 5, numbers))\n",
    "print(f\"Map with lambda: {result_map_lambda}\")  # [6, 7, 8, 9, 10]"
   ]
  },
  {
   "cell_type": "markdown",
   "id": "0f887c56",
   "metadata": {},
   "source": [
    "### Filter: Select Elements Based on Condition"
   ]
  },
  {
   "cell_type": "code",
   "execution_count": 45,
   "id": "869a3d00",
   "metadata": {},
   "outputs": [
    {
     "name": "stdout",
     "output_type": "stream",
     "text": [
      "Even numbers: [2, 4, 6, 8, 10]\n",
      "Odd numbers: [1, 3, 5, 7, 9]\n"
     ]
    }
   ],
   "source": [
    "numbers = [1, 2, 3, 4, 5, 6, 7, 8, 9, 10]\n",
    "\n",
    "# Using filter with a named function\n",
    "def is_even(x):\n",
    "    return x % 2 == 0\n",
    "\n",
    "evens = list(filter(is_even, numbers))\n",
    "print(f\"Even numbers: {evens}\")  # [2, 4, 6, 8, 10]\n",
    "\n",
    "# Filter with lambda\n",
    "odds = list(filter(lambda x: x % 2 == 1, numbers))\n",
    "print(f\"Odd numbers: {odds}\")    # [1, 3, 5, 7, 9]"
   ]
  },
  {
   "cell_type": "markdown",
   "id": "54e68b01",
   "metadata": {},
   "source": [
    "## Lambda Functions: Anonymous Helpers\n",
    "\n",
    "Lambda functions are small, anonymous functions defined with the `lambda` keyword. They're perfect for simple operations where defining a full function would be overkill."
   ]
  },
  {
   "cell_type": "markdown",
   "id": "a4844929",
   "metadata": {},
   "source": [
    "### Basic Lambda Syntax"
   ]
  },
  {
   "cell_type": "code",
   "execution_count": 46,
   "id": "ffc1131f",
   "metadata": {},
   "outputs": [
    {
     "name": "stdout",
     "output_type": "stream",
     "text": [
      "8\n",
      "8\n"
     ]
    }
   ],
   "source": [
    "# Regular function\n",
    "def add(x, y):\n",
    "    return x + y\n",
    "\n",
    "# Equivalent lambda function\n",
    "add_lambda = lambda x, y: x + y\n",
    "\n",
    "# Use them the same way\n",
    "print(add(5, 3))           # 8\n",
    "print(add_lambda(5, 3))    # 8"
   ]
  },
  {
   "cell_type": "markdown",
   "id": "8c22f019",
   "metadata": {},
   "source": [
    "### Lambdas with Higher-Order Functions"
   ]
  },
  {
   "cell_type": "code",
   "execution_count": 47,
   "id": "91ab8b87",
   "metadata": {},
   "outputs": [
    {
     "name": "stdout",
     "output_type": "stream",
     "text": [
      "Plus ten: [11, 12, 13, 14, 15]\n",
      "Divisible by 3: [3]\n",
      "Sorted by grade: [('Charlie', 78), ('Alice', 85), ('Bob', 92)]\n"
     ]
    }
   ],
   "source": [
    "numbers = [1, 2, 3, 4, 5]\n",
    "\n",
    "# Map with lambda - add 10 to each number\n",
    "plus_ten = list(map(lambda x: x + 10, numbers))\n",
    "print(f\"Plus ten: {plus_ten}\")  # [11, 12, 13, 14, 15]\n",
    "\n",
    "# Filter with lambda - get numbers divisible by 3\n",
    "divisible_by_three = list(filter(lambda x: x % 3 == 0, numbers))\n",
    "print(f\"Divisible by 3: {divisible_by_three}\")  # [3]\n",
    "\n",
    "# Sort with lambda - sort by custom criteria\n",
    "students = [('Alice', 85), ('Bob', 92), ('Charlie', 78)]\n",
    "sorted_by_grade = sorted(students, key=lambda student: student[1])\n",
    "print(f\"Sorted by grade: {sorted_by_grade}\")  # [('Charlie', 78), ('Alice', 85), ('Bob', 92)]"
   ]
  },
  {
   "cell_type": "markdown",
   "id": "533e38db",
   "metadata": {},
   "source": [
    "### When to Use Lambdas\n",
    "```python\n",
    "# GOOD: Simple, one-line operations\n",
    "squared = list(map(lambda x: x**2, [1, 2, 3, 4]))\n",
    "\n",
    "\n",
    "# BAD: Complex logic (use regular functions instead)\n",
    "# complex_calc = lambda x: (x**2 + 2*x + 1) if x > 0 else (x**3 - x**2)  # Too complex!\n",
    "```"
   ]
  },
  {
   "cell_type": "markdown",
   "id": "3dcfeed9",
   "metadata": {},
   "source": [
    "## Returning Functions from Functions\n",
    "\n",
    "### Function Factories"
   ]
  },
  {
   "cell_type": "code",
   "execution_count": 48,
   "id": "603b8d5d",
   "metadata": {},
   "outputs": [
    {
     "name": "stdout",
     "output_type": "stream",
     "text": [
      "Double 5: 10\n",
      "Triple 5: 15\n",
      "10 times 5: 50\n"
     ]
    }
   ],
   "source": [
    "def create_multiplier(factor):\n",
    "    \"\"\"\n",
    "    Create a function that multiplies by a specific factor.\n",
    "    \n",
    "    Parameters:\n",
    "    factor (number): The multiplication factor\n",
    "    \n",
    "    Returns:\n",
    "    function: A new function that multiplies its input by the factor\n",
    "    \"\"\"\n",
    "    def multiplier(x):\n",
    "        return x * factor\n",
    "    \n",
    "    return multiplier\n",
    "\n",
    "# Create specialized multiplier functions\n",
    "double = create_multiplier(2)\n",
    "triple = create_multiplier(3)\n",
    "times_ten = create_multiplier(10)\n",
    "\n",
    "# Use the created functions\n",
    "print(f\"Double 5: {double(5)}\")      # 10\n",
    "print(f\"Triple 5: {triple(5)}\")      # 15\n",
    "print(f\"10 times 5: {times_ten(5)}\") # 50"
   ]
  },
  {
   "cell_type": "markdown",
   "id": "5e76b6a4",
   "metadata": {},
   "source": [
    "## Key Takeaways\n",
    "\n",
    "- **Functions are first-class objects** - treat them like any other data\n",
    "- **Assign functions to variables** for flexible naming and organization\n",
    "- **Store functions in data structures** to create operation menus or strategies\n",
    "- **Pass functions as arguments** to create powerful higher-order functions\n",
    "- **Use built-in functions like `map` and `filter`** for data transformation\n",
    "- **Lambda functions** are perfect for simple, one-line operations\n",
    "- **Return functions from functions** to create specialized operation factories\n",
    "- **Dynamic dispatch** allows runtime selection of operations\n",
    "\n",
    "**Remember:** First-class functions enable elegant, flexible code patterns that would be much more complex in languages without this feature!"
   ]
  },
  {
   "cell_type": "code",
   "execution_count": null,
   "id": "1a38d448",
   "metadata": {},
   "outputs": [],
   "source": []
  }
 ],
 "metadata": {
  "kernelspec": {
   "display_name": "Python 3 (ipykernel)",
   "language": "python",
   "name": "python3"
  },
  "language_info": {
   "codemirror_mode": {
    "name": "ipython",
    "version": 3
   },
   "file_extension": ".py",
   "mimetype": "text/x-python",
   "name": "python",
   "nbconvert_exporter": "python",
   "pygments_lexer": "ipython3",
   "version": "3.10.2"
  }
 },
 "nbformat": 4,
 "nbformat_minor": 5
}
