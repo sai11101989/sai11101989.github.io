{
 "cells": [
  {
   "cell_type": "code",
   "execution_count": 1,
   "id": "6ac7918d",
   "metadata": {},
   "outputs": [],
   "source": [
    "import keyword\n",
    "import dis   # Python bytecode disassembler - shows what Python actually does"
   ]
  },
  {
   "cell_type": "markdown",
   "id": "12974319",
   "metadata": {},
   "source": [
    "# Part 1- Variables & Keywords\n",
    "\n",
    "## Variable Syntax:\n",
    "\n",
    "- Start with letter/underscore, then letters/digits/underscores \n",
    "- Case-sensitive\n",
    "\n",
    "## Keywords are Reserved:\n",
    "\n",
    "```python\n",
    "if, while, def, class, lambda, None, True, False\n",
    "```\n",
    "\n",
    "- Have predefined semantics in abstract machine\n",
    "- Cannot be used as variable names"
   ]
  },
  {
   "cell_type": "markdown",
   "id": "c8641e88",
   "metadata": {},
   "source": [
    "### A Quick Check for Python's valid identifiers"
   ]
  },
  {
   "cell_type": "code",
   "execution_count": 2,
   "id": "f118d331",
   "metadata": {},
   "outputs": [
    {
     "name": "stdout",
     "output_type": "stream",
     "text": [
      "Identifier Validation Test:\n",
      "✓ 'valid_name' - VALID\n",
      "✓ '_also_valid' - VALID\n",
      "✓ 'var2' - VALID\n",
      "✗ '2invalid' - INVALID\n",
      "✗ 'my-var' - INVALID\n",
      "✗ 'class' - INVALID\n",
      "\n",
      "Python has 35 reserved keywords:\n",
      "['False', 'None', 'True', 'and', 'as', 'assert', 'async', 'await', 'break', 'class', 'continue', 'def', 'del', 'elif', 'else', 'except', 'finally', 'for', 'from', 'global', 'if', 'import', 'in', 'is', 'lambda', 'nonlocal', 'not', 'or', 'pass', 'raise', 'return', 'try', 'while', 'with', 'yield'] ...\n"
     ]
    }
   ],
   "source": [
    "# Let's see what Python considers as valid identifiers\n",
    "test_identifiers = [\"valid_name\", \"_also_valid\", \"var2\", \"2invalid\", \"my-var\", \"class\"]\n",
    "\n",
    "print(\"Identifier Validation Test:\")\n",
    "for identifier in test_identifiers:\n",
    "    try:\n",
    "        # Try to assign to see if it's syntactically valid\n",
    "        exec(f\"{identifier} = 5\")\n",
    "        print(f\"✓ '{identifier}' - VALID\")\n",
    "    except SyntaxError:\n",
    "        print(f\"✗ '{identifier}' - INVALID\")\n",
    "\n",
    "print(f\"\\nPython has {len(keyword.kwlist)} reserved keywords:\")\n",
    "print(keyword.kwlist[:35], \"...\")  # Show first 35"
   ]
  },
  {
   "cell_type": "markdown",
   "id": "cb2a9aca",
   "metadata": {},
   "source": [
    "# Part 2- Python's Type System: A Critical Distinction\n",
    "\n",
    "## 2.1 Dynamic Typing\n",
    "> **A variable is a label that can be attached to any type of object.**\n",
    "\n",
    "```python\n",
    "x = 5        # x is an integer\n",
    "x = \"hello\"  # Now x is a string - perfectly valid\n",
    "```\n",
    "\n",
    "- The **type is associated with the object**, not the variable\n",
    "- The variable is just a **name tag** that can reference different types"
   ]
  },
  {
   "cell_type": "code",
   "execution_count": 3,
   "id": "79019499",
   "metadata": {},
   "outputs": [],
   "source": [
    "x = 5        # x is an integer\n",
    "x = \"hello\"  # Now x is a string - perfectly valid"
   ]
  },
  {
   "cell_type": "markdown",
   "id": "f7b53569",
   "metadata": {},
   "source": [
    "## 2.2 Strong Typing\n",
    "> **Operations on objects are type-checked strictly.**\n",
    "\n",
    "```python\n",
    "\"5\" + 5  # ❌ TypeError: can only concatenate str to str\n",
    "```\n",
    "\n",
    "- Python does **not** silently convert the integer `5` to a string `\"5\"`\n",
    "- Unlike weakly-typed languages (e.g., JavaScript) that perform implicit conversions\n",
    "\n",
    "---\n",
    "\n",
    "### Key Distinction:\n",
    "- **\"Dynamic\"** means flexible in what a variable can name\n",
    "- **\"Strong\"** means rigid in what operations are allowed on those objects"
   ]
  },
  {
   "cell_type": "code",
   "execution_count": 4,
   "id": "12a205b8",
   "metadata": {},
   "outputs": [
    {
     "ename": "TypeError",
     "evalue": "can only concatenate str (not \"int\") to str",
     "output_type": "error",
     "traceback": [
      "\u001b[0;31m---------------------------------------------------------------------------\u001b[0m",
      "\u001b[0;31mTypeError\u001b[0m                                 Traceback (most recent call last)",
      "Input \u001b[0;32mIn [4]\u001b[0m, in \u001b[0;36m<cell line: 1>\u001b[0;34m()\u001b[0m\n\u001b[0;32m----> 1\u001b[0m \u001b[38;5;124;43m\"\u001b[39;49m\u001b[38;5;124;43m5\u001b[39;49m\u001b[38;5;124;43m\"\u001b[39;49m\u001b[43m \u001b[49m\u001b[38;5;241;43m+\u001b[39;49m\u001b[43m \u001b[49m\u001b[38;5;241;43m5\u001b[39;49m\n",
      "\u001b[0;31mTypeError\u001b[0m: can only concatenate str (not \"int\") to str"
     ]
    }
   ],
   "source": [
    "\"5\" + 5  # ❌ TypeError: can only concatenate str to str"
   ]
  },
  {
   "cell_type": "markdown",
   "id": "3e94da6c",
   "metadata": {},
   "source": [
    "## 2.3 Optional Static Typing (Type Hints)\n",
    "\n",
    "Modern Python allows you to add type annotations for clarity and tooling:\n",
    "\n",
    "```python\n",
    "# Variable annotations\n",
    "name: str = \"Alice\"\n",
    "count: int = 42\n",
    "\n",
    "# Function annotations\n",
    "def greet(name: str) -> str:\n",
    "    return f\"Hello, {name}\"\n",
    "```"
   ]
  },
  {
   "cell_type": "code",
   "execution_count": 5,
   "id": "584ec9d5",
   "metadata": {},
   "outputs": [
    {
     "data": {
      "text/plain": [
       "'Hello, 42'"
      ]
     },
     "execution_count": 5,
     "metadata": {},
     "output_type": "execute_result"
    }
   ],
   "source": [
    "# Variable annotations\n",
    "name: str = \"Alice\"\n",
    "count: int = 42\n",
    "\n",
    "# Function annotations\n",
    "def greet(name: str) -> str:\n",
    "    return f\"Hello, {name}\"\n",
    "\n",
    "greet(count)  # "
   ]
  },
  {
   "cell_type": "markdown",
   "id": "ea153e08",
   "metadata": {},
   "source": [
    "**Why it still runs:** Python ignores type hints during execution. They're only for static analysis tools."
   ]
  },
  {
   "cell_type": "markdown",
   "id": "9690a94f",
   "metadata": {},
   "source": [
    "### Important Notes:\n",
    "- These are **hints** for linters and IDEs\n",
    "- The **Python interpreter ignores them at runtime**\n",
    "- They help with the \"code validator\" role during development\n",
    "- Static program analysis Tools like `mypy` can use these annotations for static type checking\n",
    "\n",
    "---\n",
    "\n",
    "**Summary**: Python combines dynamic typing (flexible variables) with strong typing (strict operations), while offering optional static type hints for development tooling."
   ]
  },
  {
   "cell_type": "markdown",
   "id": "a8c0023c",
   "metadata": {},
   "source": [
    "### The Python Validators Mindset\n",
    "\n",
    "Python remains **dynamically typed at runtime**, but gives you **optional static typing** for development. This maintains flexibility while enabling reliability when needed.\n",
    "\n",
    "Type hints are the **formal specification** of your function's contract - exactly what \"validators\" need to verify code correctness!"
   ]
  },
  {
   "cell_type": "markdown",
   "id": "025580bd",
   "metadata": {},
   "source": [
    "# Part 3: Expressions - Building and Evaluating Complexity\n",
    "\n",
    "## 3.1 What is an Expression?\n",
    "\n",
    "A piece of code that **evaluates to a value**.\n",
    "\n",
    "**Examples:** `5`, `x`, `x + 5 * 2`, `func()`"
   ]
  },
  {
   "cell_type": "markdown",
   "id": "1c78f03e",
   "metadata": {},
   "source": [
    "## 3.2 Operators for Building Expressions\n",
    "\n",
    "**Arithmetic:** `+`, `-`, `*`, `/`, `//` (floor div), `%` (modulo), `**` (exponent)\n",
    "```python\n",
    "print(10 + 3)   # 13\n",
    "print(10 / 3)   # 3.333... (true division)\n",
    "print(10 // 3)  # 3 (floor division)\n",
    "print(10 % 3)   # 1 (modulo/remainder)\n",
    "print(2 ** 3)   # 8 (exponentiation)\n",
    "\n",
    "```"
   ]
  },
  {
   "cell_type": "code",
   "execution_count": 6,
   "id": "bbae2e73",
   "metadata": {},
   "outputs": [
    {
     "name": "stdout",
     "output_type": "stream",
     "text": [
      "13\n",
      "3.3333333333333335\n",
      "3\n",
      "1\n",
      "8\n"
     ]
    }
   ],
   "source": [
    "print(10 + 3)   \n",
    "print(10 / 3)   \n",
    "print(10 // 3)  \n",
    "print(10 % 3)   \n",
    "print(2 ** 3)   "
   ]
  },
  {
   "cell_type": "markdown",
   "id": "6909dd6c",
   "metadata": {},
   "source": [
    "**Logical/Boolean:** `and`, `or`, `not`\n",
    "```python\n",
    "print(True and False)  # False\n",
    "print(True or False)   # True\n",
    "print(not True)        # False\n",
    "print(5 > 3 and 2 < 4) # True\n",
    "```"
   ]
  },
  {
   "cell_type": "code",
   "execution_count": 7,
   "id": "dcedb471",
   "metadata": {},
   "outputs": [
    {
     "name": "stdout",
     "output_type": "stream",
     "text": [
      "False\n",
      "True\n",
      "False\n",
      "True\n"
     ]
    }
   ],
   "source": [
    "print(True and False)  \n",
    "print(True or False)   \n",
    "print(not True)        \n",
    "print(5 > 3 and 2 < 4) "
   ]
  },
  {
   "cell_type": "markdown",
   "id": "8539a803",
   "metadata": {},
   "source": [
    "**Comparison:** `==`, `!=`, `<`, `>`, `<=`, `>=`\n",
    "```python\n",
    "print(5 == 5)    # True\n",
    "print(5 != 3)    # True\n",
    "print(5 < 3)     # False\n",
    "print(5 >= 5)    # True\n",
    "```"
   ]
  },
  {
   "cell_type": "code",
   "execution_count": 8,
   "id": "8d26e81d",
   "metadata": {},
   "outputs": [
    {
     "name": "stdout",
     "output_type": "stream",
     "text": [
      "True\n",
      "True\n",
      "False\n",
      "True\n"
     ]
    }
   ],
   "source": [
    "print(5 == 5)    \n",
    "print(5 != 3)    \n",
    "print(5 < 3)     \n",
    "print(5 >= 5)    "
   ]
  },
  {
   "cell_type": "markdown",
   "id": "53c43a56",
   "metadata": {},
   "source": [
    "**Note on Operator Overloading:** The same operator symbol can have different semantics depending on the data types involved. For example, `+` performs arithmetic addition with numbers but concatenation with strings and lists:\n",
    "\n",
    "```python\n",
    "print(5 + 3)               # 8 (addition)\n",
    "print(\"hello\" + \"world\")   # \"helloworld\" (concatenation)  \n",
    "print([1, 2] + [3, 4])     # [1, 2, 3, 4] (list concatenation)\n",
    "```"
   ]
  },
  {
   "cell_type": "code",
   "execution_count": 9,
   "id": "4136924e",
   "metadata": {},
   "outputs": [
    {
     "name": "stdout",
     "output_type": "stream",
     "text": [
      "8\n",
      "helloworld\n",
      "[1, 2, 3, 4]\n"
     ]
    }
   ],
   "source": [
    "print(5 + 3)               \n",
    "print(\"hello\" + \"world\")    \n",
    "print([1, 2] + [3, 4])     "
   ]
  },
  {
   "cell_type": "markdown",
   "id": "663d966b",
   "metadata": {},
   "source": [
    "## 3.3 The Walrus Operator (`:=`) vs. Assignment (`=`)\n",
    "\n",
    "This is a key semantic difference.\n",
    "\n",
    "**Assignment Statement (`=`):** \n",
    "```python\n",
    "x = calculate_value()\n",
    "```\n",
    "This is a *statement*. It does not have a value itself; its job is to change the state (bind the name `x`).\n",
    "\n",
    "**Assignment Expression (Walrus `:=`):**\n",
    "```python\n",
    "if (n := len(data)) > 10:\n",
    "```\n",
    "This is an *expression*. It both:\n",
    "1. **Assigns** the value of `len(data)` to the variable `n`\n",
    "2. **Evaluates to** that value, which is then compared to `10`\n",
    "\n",
    "**Evaluation Difference:**\n",
    "- `=` cannot be used inside a larger expression (e.g., `print(x = 5)` is invalid)\n",
    "- `:=` can be used inside larger expressions to assign and use a value in place (e.g., `print(x := 5)` is valid and prints `5`)"
   ]
  },
  {
   "cell_type": "code",
   "execution_count": 10,
   "id": "e7345180",
   "metadata": {},
   "outputs": [
    {
     "name": "stdout",
     "output_type": "stream",
     "text": [
      "   ✗ print(x = 5) -> : 'x' is an invalid keyword argument for print()\n"
     ]
    }
   ],
   "source": [
    "# Evaluation Difference\n",
    "\n",
    "try:\n",
    "    print(x = 5)  # This will fail\n",
    "except Exception as e:\n",
    "    print(f\"   ✗ print(x = 5) -> : {e}\")"
   ]
  },
  {
   "cell_type": "code",
   "execution_count": 11,
   "id": "a4777f93",
   "metadata": {},
   "outputs": [
    {
     "name": "stdout",
     "output_type": "stream",
     "text": [
      "5\n"
     ]
    }
   ],
   "source": [
    "# Evaluation Difference\n",
    "\n",
    "try:\n",
    "    print(x := 5)  # This will fail\n",
    "except Exception as e:\n",
    "    print(f\"   ✗ print(x = 5) -> : {e}\")"
   ]
  },
  {
   "cell_type": "markdown",
   "id": "a17997c6",
   "metadata": {},
   "source": [
    "### Practical example"
   ]
  },
  {
   "cell_type": "code",
   "execution_count": 12,
   "id": "40224104",
   "metadata": {},
   "outputs": [
    {
     "name": "stdout",
     "output_type": "stream",
     "text": [
      "   Traditional:\n",
      "   Length 5 is greater than 3\n",
      "   Walrus:\n",
      "   Length 5 is greater than 3\n"
     ]
    }
   ],
   "source": [
    "data = [1, 2, 3, 4, 5]\n",
    "\n",
    "# Traditional approach\n",
    "print(\"   Traditional:\")\n",
    "n = len(data)\n",
    "if n > 3:\n",
    "    print(f\"   Length {n} is greater than 3\")\n",
    "\n",
    "# Walrus approach  \n",
    "print(\"   Walrus:\")\n",
    "if (n := len(data)) > 3:\n",
    "    print(f\"   Length {n} is greater than 3\")"
   ]
  },
  {
   "cell_type": "markdown",
   "id": "23db237b",
   "metadata": {},
   "source": [
    "## Formal Assignment Syntax"
   ]
  },
  {
   "cell_type": "code",
   "execution_count": 13,
   "id": "1627789c",
   "metadata": {},
   "outputs": [
    {
     "name": "stdout",
     "output_type": "stream",
     "text": [
      "=== VALID ASSIGNMENT PATTERNS ===\n",
      "Simple: x = 10 -> x = 10\n",
      "Chained: a = b = c = 5 -> a=5, b=5, c=5\n",
      "Tuple unpacking: x, y = 1, 2 -> x=1, y=2\n",
      "List unpacking: [x, y] = [3, 4] -> x=3, y=4\n",
      "\n",
      "All these follow Python's formal assignment syntax rules!\n"
     ]
    }
   ],
   "source": [
    "# Valid assignment patterns\n",
    "print(\"=== VALID ASSIGNMENT PATTERNS ===\")\n",
    "\n",
    "# Simple assignment\n",
    "x = 10\n",
    "print(f\"Simple: x = 10 -> x = {x}\")\n",
    "\n",
    "# Chained assignment  \n",
    "a = b = c = 5\n",
    "print(f\"Chained: a = b = c = 5 -> a={a}, b={b}, c={c}\")\n",
    "\n",
    "# Tuple unpacking\n",
    "x, y = 1, 2\n",
    "print(f\"Tuple unpacking: x, y = 1, 2 -> x={x}, y={y}\")\n",
    "\n",
    "# List unpacking\n",
    "[x, y] = [3, 4]  \n",
    "print(f\"List unpacking: [x, y] = [3, 4] -> x={x}, y={y}\")\n",
    "\n",
    "print(\"\\nAll these follow Python's formal assignment syntax rules!\")"
   ]
  },
  {
   "cell_type": "markdown",
   "id": "63ecedbc",
   "metadata": {},
   "source": [
    "### Great Assignment Ambiguity"
   ]
  },
  {
   "cell_type": "code",
   "execution_count": 14,
   "id": "3a8f601b",
   "metadata": {},
   "outputs": [
    {
     "ename": "SyntaxError",
     "evalue": "invalid syntax (1033491753.py, line 7)",
     "output_type": "error",
     "traceback": [
      "\u001b[0;36m  Input \u001b[0;32mIn [14]\u001b[0;36m\u001b[0m\n\u001b[0;31m    result = (x = 5)   #Assignment in parentheses\u001b[0m\n\u001b[0m                ^\u001b[0m\n\u001b[0;31mSyntaxError\u001b[0m\u001b[0;31m:\u001b[0m invalid syntax\n"
     ]
    }
   ],
   "source": [
    "# The famous test case!\n",
    "\n",
    "result = x = 5  #Chained assignment\n",
    "\n",
    "result = (x := 5)  #Walrus in parentheses\n",
    "\n",
    "result = (x = 5)   #Assignment in parentheses\n"
   ]
  },
  {
   "cell_type": "markdown",
   "id": "d50bb66f",
   "metadata": {},
   "source": [
    "## 3.4 Lambda Expressions\n",
    "\n",
    "A way to create small, anonymous functions *as an expression*.\n",
    "\n",
    "**Syntax:** `lambda parameters: expression`\n",
    "\n",
    "**Example:** \n",
    "```python\n",
    "square = lambda x: x ** 2\n",
    "```\n",
    "Contrast with:\n",
    "```python\n",
    "def square(x): \n",
    "    return x ** 2\n",
    "```\n",
    "\n",
    "They are expressions, so they can be used inside other expressions (e.g., passed as an argument to `map` or `filter`)."
   ]
  },
  {
   "cell_type": "code",
   "execution_count": 15,
   "id": "127d7b96",
   "metadata": {},
   "outputs": [
    {
     "name": "stdout",
     "output_type": "stream",
     "text": [
      "[1, 4, 9, 16, 25]\n"
     ]
    }
   ],
   "source": [
    "numbers = [1, 2, 3, 4, 5]\n",
    "squared_direct = list(map(lambda x: x ** 2, numbers))\n",
    "print(squared_direct)"
   ]
  },
  {
   "cell_type": "markdown",
   "id": "8dcbfb17",
   "metadata": {},
   "source": [
    "# Part 4: Statements and Control Flow Semantics\n",
    "\n",
    "## 4.1 Simple Statements and the Sequence Operator\n",
    "\n",
    "A **statement** is an instruction that performs an action.\n",
    "\n",
    "**Examples:** Assignment (`x = 5`), the `print` function call, `import`.\n",
    "\n",
    "**Sequence Operator:** The newline (or semicolon `;`) is the sequence operator. It means \"do this first statement, then do the next.\" Statements are executed in the order they are written.\n",
    "\n",
    "**Note on Physical vs Logical Lines:**\n",
    "- **Physical Line:** What you see as one line in your code editor\n",
    "- **Logical Line:** What Python considers as a single statement\n",
    "- Multiple physical lines can make one logical line using line continuation (`\\`) or parentheses\n",
    "- Multiple logical lines can be on one physical line using semicolons (`;`)\n",
    "\n",
    "```python\n",
    "# One logical line spanning multiple physical lines\n",
    "total = (1 + 2 + 3 +\n",
    "         4 + 5 + 6)\n",
    "\n",
    "# Multiple logical lines on one physical line\n",
    "x = 5; y = 10; z = x + y\n",
    "```\n",
    "\n",
    "\n",
    "## 4.2 The Semantics of the Assignment Statement\n",
    "\n",
    "**Formal Analysis:** `variable = expression`\n",
    "\n",
    "**Operational Semantics (Step-by-step):**\n",
    "1. Evaluate the *expression* on the right-hand side. This results in a value (an object).\n",
    "2. Bind the *variable* name on the left-hand side to that object in the current namespace.\n",
    "\n",
    "**Live with Debugger:** Observe the state change for `y = 10; x = y + 5`. Note that `x = y + 5` means \"evaluate `y + 5` *first* (getting 15), then assign that value to `x`.\"\n",
    "\n",
    "## 4.3 Branching as Conditional Sequencing (`if` statement)\n",
    "\n",
    "**Syntax (BNF-inspired):**\n",
    "```\n",
    "<if_statement> ::= \"if\" <expression> \":\" <suite>\n",
    "                 | \"if\" <expression> \":\" <suite> \"else\" \":\" <suite>\n",
    "                 | \"if\" <expression> \":\" <suite> \"elif\" <expression> \":\" <suite> ... [\"else\" \":\" <suite>]\n",
    "```\n",
    "\n",
    "**Semantics: \"Conditional Sequencing\"**\n",
    "1. Evaluate the Boolean expression after `if` (the condition).\n",
    "2. **If it evaluates to `True`:** The *sequence* of statements in the following indented block (the `suite`) is executed. Any `elif` or `else` blocks are skipped.\n",
    "3. **If it evaluates to `False`:** The indented block is skipped. Control moves to the `elif` (else-if) condition, if present, and the process repeats. If all conditions are `False`, the `else` block (if present) is executed.\n",
    "\n",
    "**Example & Formal Analysis:**\n",
    "```python\n",
    "# Example\n",
    "temperature = 30\n",
    "if temperature > 25:\n",
    "    print(\"It's hot\")\n",
    "    activity = \"swim\"\n",
    "elif temperature > 15:\n",
    "    print(\"It's pleasant\")\n",
    "    activity = \"walk\"\n",
    "else:\n",
    "    print(\"It's cold\")\n",
    "    activity = \"read\"\n",
    "```\n",
    "\n",
    "**State Analysis:** Trace the value of `temperature` and the resulting state (what is printed, what is `activity` assigned?).\n",
    "\n",
    "**Key Point:** Only *one* of the three sequences (hot, pleasant, cold) is executed. This is \"conditional sequencing.\""
   ]
  },
  {
   "cell_type": "code",
   "execution_count": null,
   "id": "59251916",
   "metadata": {},
   "outputs": [],
   "source": []
  }
 ],
 "metadata": {
  "kernelspec": {
   "display_name": "Python 3 (ipykernel)",
   "language": "python",
   "name": "python3"
  },
  "language_info": {
   "codemirror_mode": {
    "name": "ipython",
    "version": 3
   },
   "file_extension": ".py",
   "mimetype": "text/x-python",
   "name": "python",
   "nbconvert_exporter": "python",
   "pygments_lexer": "ipython3",
   "version": "3.10.2"
  }
 },
 "nbformat": 4,
 "nbformat_minor": 5
}
