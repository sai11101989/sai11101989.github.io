{
 "cells": [
  {
   "cell_type": "markdown",
   "id": "407ff611",
   "metadata": {},
   "source": [
    "# Python Lists: Built-in Functions \n",
    "\n",
    "\n",
    "## 1. Introduction to Python Lists\n",
    "\n",
    "A **List** in Python is a fundamental, built-in data structure used to store an ordered collection of items. It is one of the most versatile and commonly used tools in the language, known for its flexibility and power.\n",
    "\n",
    "Its core characteristics can be summarized by three key features:\n",
    "\n",
    "*   **Ordered Collection:** Elements maintain a defined sequence, allowing you to access them by their specific position (index).\n",
    "*   **Mutable:** Lists are dynamic and can be changed after creation. You can add, remove, or modify elements freely.\n",
    "*   **Heterogeneous:** A single list can contain elements of different data types, such as integers, strings, floats, or even other lists.\n",
    "\n",
    "This unique combination makes the list an indispensable container for handling ordered sequences of data in almost any Python program."
   ]
  },
  {
   "cell_type": "code",
   "execution_count": 1,
   "id": "c18d4f2b",
   "metadata": {},
   "outputs": [
    {
     "ename": "SyntaxError",
     "evalue": "invalid syntax (3817168042.py, line 1)",
     "output_type": "error",
     "traceback": [
      "\u001b[0;36m  Input \u001b[0;32mIn [1]\u001b[0;36m\u001b[0m\n\u001b[0;31m    halt here\u001b[0m\n\u001b[0m         ^\u001b[0m\n\u001b[0;31mSyntaxError\u001b[0m\u001b[0;31m:\u001b[0m invalid syntax\n"
     ]
    }
   ],
   "source": [
    "halt here"
   ]
  },
  {
   "cell_type": "markdown",
   "id": "d45b0a9d",
   "metadata": {},
   "source": [
    "### Creating and Basic Operations\n",
    "\n",
    "Basic list creation and fundamental operations like length and indexing."
   ]
  },
  {
   "cell_type": "code",
   "execution_count": null,
   "id": "a72c8df8",
   "metadata": {},
   "outputs": [],
   "source": [
    "# Creating lists\n",
    "my_list = [1, 2, 3, 4, 5]\n",
    "print(\"Original list:\", my_list)\n",
    "\n",
    "# Get length\n",
    "print(\"Length of list:\", len(my_list))"
   ]
  },
  {
   "cell_type": "code",
   "execution_count": null,
   "id": "a10a2f01",
   "metadata": {},
   "outputs": [],
   "source": [
    "# Access elements\n",
    "print(\"First element:\", my_list[0])\n",
    "print(\"Last element:\", my_list[-1])\n",
    "print(\"Elements 1-3:\", my_list[1:4])  # last index is excluded"
   ]
  },
  {
   "cell_type": "code",
   "execution_count": null,
   "id": "53cca9b5",
   "metadata": {},
   "outputs": [],
   "source": [
    "my_list = [1, 2, 3, 4, 5]\n",
    "my_0 = my_list[0]\n",
    "print(f\"my_0 is my_list_0: {my_0 is my_list[0]}\")"
   ]
  },
  {
   "cell_type": "code",
   "execution_count": null,
   "id": "b9149ef6",
   "metadata": {},
   "outputs": [],
   "source": [
    "my_0 = 10\n",
    "print(f\"my_list_0 is now: {my_list[0]}\")"
   ]
  },
  {
   "cell_type": "markdown",
   "id": "e39332eb",
   "metadata": {},
   "source": [
    "## 2. Basic List Operations\n",
    "\n",
    "### Adding Elements\n",
    "\n",
    "Methods to add elements to lists: append, insert, and extend."
   ]
  },
  {
   "cell_type": "code",
   "execution_count": null,
   "id": "f6bb0d2e",
   "metadata": {},
   "outputs": [],
   "source": [
    "my_list = [1, 2, 3, 4, 5]\n",
    "# Add element to end\n",
    "my_list.append(6)\n",
    "print(\"After append(6):\", my_list)"
   ]
  },
  {
   "cell_type": "code",
   "execution_count": null,
   "id": "66857e37",
   "metadata": {},
   "outputs": [],
   "source": [
    "# Add element at specific position\n",
    "my_list.insert(2, 99)\n",
    "print(\"After insert(2, 99):\", my_list)"
   ]
  },
  {
   "cell_type": "code",
   "execution_count": null,
   "id": "071f5920",
   "metadata": {},
   "outputs": [],
   "source": [
    "# Add multiple elements\n",
    "my_list.extend([7, 8, 9])         # Can you implement this method ?\n",
    "print(\"After extend([7, 8, 9]):\", my_list)"
   ]
  },
  {
   "cell_type": "markdown",
   "id": "c06c4b48",
   "metadata": {},
   "source": [
    "### Concatenation and Repetition\n",
    "\n",
    "Using + operator for concatenation and * for repetition."
   ]
  },
  {
   "cell_type": "code",
   "execution_count": null,
   "id": "5c850a69",
   "metadata": {},
   "outputs": [],
   "source": [
    "list1 = [1, 2, 3]\n",
    "list2 = [4, 5, 6]\n",
    "\n",
    "# Concatenation (creates new list)\n",
    "combined = list1 + list2\n",
    "print(\"list1 + list2:\", combined)\n",
    "print(\"Original list1:\", list1)  # Unchanged\n",
    "print(\"Original list2:\", list2)  # Unchanged\n",
    "\n",
    "# List repetition\n",
    "repeated = list1 * 3\n",
    "print(\"list1 * 3:\", repeated)"
   ]
  },
  {
   "cell_type": "markdown",
   "id": "e2b54352",
   "metadata": {},
   "source": [
    "### Removing Elements\n",
    "\n",
    "Methods to remove elements: remove, pop, and clear."
   ]
  },
  {
   "cell_type": "code",
   "execution_count": null,
   "id": "fcb67c34",
   "metadata": {},
   "outputs": [],
   "source": [
    "my_list = [1, 2, 99, 3, 99, 4, 5]\n",
    "# Remove first element by value\n",
    "my_list.remove(99)\n",
    "print(\"After remove(99):\", my_list)"
   ]
  },
  {
   "cell_type": "code",
   "execution_count": null,
   "id": "46119f71",
   "metadata": {},
   "outputs": [],
   "source": [
    "# Remove and return element by index\n",
    "popped = my_list.pop(2)\n",
    "print(f\"Popped element: {popped}\")\n",
    "print(\"After pop(2):\", my_list)"
   ]
  },
  {
   "cell_type": "code",
   "execution_count": null,
   "id": "8a87927b",
   "metadata": {},
   "outputs": [],
   "source": [
    "# Remove last element\n",
    "last = my_list.pop()\n",
    "print(f\"Last element popped: {last}\")\n",
    "print(\"After pop():\", my_list)\n",
    "\n",
    "# Clear all elements\n",
    "my_list.clear()\n",
    "print(\"After clear():\", my_list)"
   ]
  },
  {
   "cell_type": "markdown",
   "id": "937d744d",
   "metadata": {},
   "source": [
    "## 3. Searching and Counting\n",
    "\n",
    "### Counting and Finding Elements\n",
    "\n",
    "Methods to search for elements and count occurrences."
   ]
  },
  {
   "cell_type": "code",
   "execution_count": null,
   "id": "0cafdea8",
   "metadata": {},
   "outputs": [],
   "source": [
    "numbers = [1, 2, 3, 2, 4, 2, 5]\n",
    "print(\"Numbers list:\", numbers)\n",
    "\n",
    "# Count occurrences\n",
    "count_2 = numbers.count(2)\n",
    "count_7 = numbers.count(7)\n",
    "print(f\"Count of 2: {count_2}\")\n",
    "print(f\"Count of 7: {count_7}\")"
   ]
  },
  {
   "cell_type": "code",
   "execution_count": null,
   "id": "be1ad8c6",
   "metadata": {},
   "outputs": [],
   "source": [
    "# Find index of first occurrence\n",
    "index_2 = numbers.index(2)\n",
    "print(f\"First index of 2: {index_2}\")\n",
    "\n",
    "# Find index with start position\n",
    "index_2_after_2 = numbers.index(2, 2)\n",
    "print(f\"Index of 2 after position 2: {index_2_after_2}\")"
   ]
  },
  {
   "cell_type": "code",
   "execution_count": null,
   "id": "6d358723",
   "metadata": {},
   "outputs": [],
   "source": [
    "# Check if element exists\n",
    "print(f\"Is 3 in list? {3 in numbers}\")\n",
    "print(f\"Is 8 in list? {8 in numbers}\")"
   ]
  },
  {
   "cell_type": "markdown",
   "id": "e7356c47",
   "metadata": {},
   "source": [
    "## 4. Sorting and Reversing\n",
    "\n",
    "### Basic Sorting\n",
    "\n",
    "In-place sorting methods that **modify the original list.**"
   ]
  },
  {
   "cell_type": "code",
   "execution_count": 2,
   "id": "7342fa04",
   "metadata": {},
   "outputs": [
    {
     "name": "stdout",
     "output_type": "stream",
     "text": [
      "Original numbers: [3, 1, 4, 1, 5, 9, 2]\n",
      "After sort(): [1, 1, 2, 3, 4, 5, 9]\n"
     ]
    }
   ],
   "source": [
    "numbers = [3, 1, 4, 1, 5, 9, 2]\n",
    "print(\"Original numbers:\", numbers)\n",
    "\n",
    "# Sort in-place (modifies original)\n",
    "numbers.sort()\n",
    "print(\"After sort():\", numbers)"
   ]
  },
  {
   "cell_type": "code",
   "execution_count": 3,
   "id": "f7bd48a6",
   "metadata": {},
   "outputs": [
    {
     "name": "stdout",
     "output_type": "stream",
     "text": [
      "After sort(reverse=True): [9, 5, 4, 3, 2, 1, 1]\n"
     ]
    }
   ],
   "source": [
    "# Sort in descending order\n",
    "numbers.sort(reverse=True)\n",
    "print(\"After sort(reverse=True):\", numbers)"
   ]
  },
  {
   "cell_type": "code",
   "execution_count": 4,
   "id": "8b393daf",
   "metadata": {},
   "outputs": [
    {
     "name": "stdout",
     "output_type": "stream",
     "text": [
      "After reverse(): [1, 1, 2, 3, 4, 5, 9]\n"
     ]
    }
   ],
   "source": [
    "# Reverse in-place\n",
    "numbers.reverse()\n",
    "print(\"After reverse():\", numbers)"
   ]
  },
  {
   "cell_type": "markdown",
   "id": "7cbbc1ae",
   "metadata": {},
   "source": [
    "### Using sorted() Function\n",
    "\n",
    "The sorted() function creates new sorted lists **without modifying originals**."
   ]
  },
  {
   "cell_type": "code",
   "execution_count": 5,
   "id": "33fc578c",
   "metadata": {},
   "outputs": [
    {
     "name": "stdout",
     "output_type": "stream",
     "text": [
      "Original unsorted list: [3, 1, 4, 1, 5, 9, 2]\n",
      "sorted(unsorted): [1, 1, 2, 3, 4, 5, 9]\n",
      "Original list (unchanged): [3, 1, 4, 1, 5, 9, 2]\n",
      "sorted(unsorted, reverse=True): [9, 5, 4, 3, 2, 1, 1]\n"
     ]
    }
   ],
   "source": [
    "# sorted() creates a new list (doesn't modify original)\n",
    "unsorted = [3, 1, 4, 1, 5, 9, 2]\n",
    "print(\"Original unsorted list:\", unsorted)\n",
    "\n",
    "sorted_asc = sorted(unsorted)\n",
    "print(\"sorted(unsorted):\", sorted_asc)\n",
    "print(\"Original list (unchanged):\", unsorted)\n",
    "\n",
    "sorted_desc = sorted(unsorted, reverse=True)\n",
    "print(\"sorted(unsorted, reverse=True):\", sorted_desc)"
   ]
  },
  {
   "cell_type": "markdown",
   "id": "ed0422c4",
   "metadata": {},
   "source": [
    "## 5. Copying \n",
    "\n",
    "### Different Ways to Copy Lists\n",
    "\n",
    "Various methods to create copies of lists."
   ]
  },
  {
   "cell_type": "code",
   "execution_count": 6,
   "id": "49ecefb4",
   "metadata": {},
   "outputs": [
    {
     "name": "stdout",
     "output_type": "stream",
     "text": [
      "Original list: [1, 2, 3, [4, 5]]\n"
     ]
    }
   ],
   "source": [
    "original = [1, 2, 3, [4, 5]]  # List with nested list\n",
    "print(\"Original list:\", original)"
   ]
  },
  {
   "cell_type": "code",
   "execution_count": 7,
   "id": "f776c2bd",
   "metadata": {},
   "outputs": [
    {
     "name": "stdout",
     "output_type": "stream",
     "text": [
      "After copy(): [1, 2, 3, [4, 5]]\n"
     ]
    }
   ],
   "source": [
    "# Method 1: copy() method\n",
    "copy1 = original.copy()\n",
    "print(\"After copy():\", copy1)"
   ]
  },
  {
   "cell_type": "code",
   "execution_count": 8,
   "id": "97164bd6",
   "metadata": {},
   "outputs": [
    {
     "name": "stdout",
     "output_type": "stream",
     "text": [
      "After slicing [:]: [1, 2, 3, [4, 5]]\n"
     ]
    }
   ],
   "source": [
    "# Method 2: slicing\n",
    "copy2 = original[:]\n",
    "print(\"After slicing [:]:\", copy2)"
   ]
  },
  {
   "cell_type": "code",
   "execution_count": 9,
   "id": "58aa9d12",
   "metadata": {},
   "outputs": [
    {
     "name": "stdout",
     "output_type": "stream",
     "text": [
      "After list(original): [1, 2, 3, [4, 5]]\n"
     ]
    }
   ],
   "source": [
    "# Method 3: list() constructor\n",
    "copy3 = list(original)\n",
    "print(\"After list(original):\", copy3)"
   ]
  },
  {
   "cell_type": "code",
   "execution_count": 10,
   "id": "c2cf6d1f",
   "metadata": {},
   "outputs": [
    {
     "name": "stdout",
     "output_type": "stream",
     "text": [
      "After assignment: [1, 2, 3, [4, 5]]\n"
     ]
    }
   ],
   "source": [
    "# Method 4: assignment\n",
    "copy4 = original\n",
    "print(\"After assignment:\", copy3)"
   ]
  },
  {
   "cell_type": "code",
   "execution_count": 11,
   "id": "bfdcf34b",
   "metadata": {},
   "outputs": [
    {
     "name": "stdout",
     "output_type": "stream",
     "text": [
      "original is copy1: False\n",
      "original is copy2: False\n",
      "original is copy3: False\n",
      "original is copy4: True\n"
     ]
    }
   ],
   "source": [
    "# Verify they are different objects\n",
    "print(f\"original is copy1: {original is copy1}\")\n",
    "print(f\"original is copy2: {original is copy2}\")\n",
    "print(f\"original is copy3: {original is copy3}\")\n",
    "print(f\"original is copy4: {original is copy4}\")"
   ]
  },
  {
   "cell_type": "markdown",
   "id": "3341c03e",
   "metadata": {},
   "source": [
    "### Shallow Copy Demonstration\n",
    "\n",
    "Understanding shallow copy behavior with nested lists."
   ]
  },
  {
   "cell_type": "code",
   "execution_count": 12,
   "id": "1dc75fc0",
   "metadata": {},
   "outputs": [
    {
     "name": "stdout",
     "output_type": "stream",
     "text": [
      "Before modification:\n",
      "Original: [1, 2, 3, [4, 5]]\n",
      "Shallow copy: [1, 2, 3, [4, 5]]\n"
     ]
    }
   ],
   "source": [
    "# Demonstrate shallow copy behavior\n",
    "original = [1, 2, 3, [4, 5]]\n",
    "shallow_copy = original.copy()\n",
    "\n",
    "print(\"Before modification:\")\n",
    "print(f\"Original: {original}\")\n",
    "print(f\"Shallow copy: {shallow_copy}\")"
   ]
  },
  {
   "cell_type": "code",
   "execution_count": 13,
   "id": "f212feec",
   "metadata": {},
   "outputs": [
    {
     "name": "stdout",
     "output_type": "stream",
     "text": [
      "\n",
      "After modifying top-level element in copy:\n",
      "Original: [1, 2, 3, [4, 5]]\n",
      "Shallow copy: [99, 2, 3, [4, 5]]\n"
     ]
    }
   ],
   "source": [
    "# Modify top-level element in copy\n",
    "shallow_copy[0] = 99\n",
    "print(\"\\nAfter modifying top-level element in copy:\")\n",
    "print(f\"Original: {original}\")  # Unchanged\n",
    "print(f\"Shallow copy: {shallow_copy}\")"
   ]
  },
  {
   "cell_type": "code",
   "execution_count": 14,
   "id": "781dbd96",
   "metadata": {},
   "outputs": [
    {
     "name": "stdout",
     "output_type": "stream",
     "text": [
      "\n",
      "After modifying nested element in copy:\n",
      "Original: [1, 2, 3, [88, 5]]\n",
      "Shallow copy: [99, 2, 3, [88, 5]]\n"
     ]
    }
   ],
   "source": [
    "# Modify nested element in copy\n",
    "shallow_copy[3][0] = 88\n",
    "print(\"\\nAfter modifying nested element in copy:\")\n",
    "print(f\"Original: {original}\")  # Changed! (shallow copy)\n",
    "print(f\"Shallow copy: {shallow_copy}\")"
   ]
  },
  {
   "cell_type": "code",
   "execution_count": 15,
   "id": "7ae6e793",
   "metadata": {},
   "outputs": [
    {
     "name": "stdout",
     "output_type": "stream",
     "text": [
      "original is shallow_copy: False\n"
     ]
    }
   ],
   "source": [
    "print(f\"original is shallow_copy: {original is shallow_copy}\")"
   ]
  },
  {
   "cell_type": "code",
   "execution_count": 16,
   "id": "116b1dd8",
   "metadata": {},
   "outputs": [
    {
     "name": "stdout",
     "output_type": "stream",
     "text": [
      "original_3 is shallow_copy_3: True\n"
     ]
    }
   ],
   "source": [
    "print(f\"original_3 is shallow_copy_3: {original[3] is shallow_copy[3]}\")"
   ]
  },
  {
   "cell_type": "markdown",
   "id": "7ab49480",
   "metadata": {},
   "source": [
    "### **Shallow Copy Explanation**\n",
    "\n",
    "A **shallow copy** creates a new list object, but only copies the *references* to the nested objects, not the nested objects themselves.\n",
    "\n",
    "## **What's Happening:**\n",
    "\n",
    "- **Top-level elements** (like integers, strings) are independent in the copy\n",
    "- **Nested objects** (like inner lists) are *shared* between original and copy\n",
    "\n",
    "## **Step-by-Step Breakdown:**\n",
    "\n",
    "1. **Initial State:**\n",
    "   ```\n",
    "   Original: [1, 2, 3, [4, 5]]\n",
    "   Shallow Copy: [1, 2, 3, [4, 5]]\n",
    "   ```\n",
    "   - The outer lists are different objects\n",
    "   - But both point to the *same* inner list `[4, 5]`\n",
    "\n",
    "2. **Modify Top-Level Element:**\n",
    "   ```python\n",
    "   shallow_copy[0] = 99\n",
    "   ```\n",
    "   - Only changes the copy's first element\n",
    "   - Original remains unchanged because integers are immutable and stored separately\n",
    "\n",
    "3. **Modify Nested Element:**\n",
    "   ```python\n",
    "   shallow_copy[3][0] = 88\n",
    "   ```\n",
    "   - Both original and copy \"see\" this change\n",
    "   - Because they both reference the *same* inner list object\n",
    "   - Modifying the inner list affects both outer lists\n",
    "\n",
    "\n",
    "This is why shallow copies can lead to unexpected behavior with nested mutable objects!"
   ]
  },
  {
   "cell_type": "markdown",
   "id": "eaf9866d",
   "metadata": {},
   "source": [
    "### **Deep Copy Solution**\n",
    "\n",
    "Use `copy.deepcopy()` to create a completely independent copy where nested objects are also duplicated:"
   ]
  },
  {
   "cell_type": "code",
   "execution_count": 17,
   "id": "459fd250",
   "metadata": {},
   "outputs": [
    {
     "name": "stdout",
     "output_type": "stream",
     "text": [
      "Original: [1, 2, 3, [4, 5]]\n",
      "Deep copy: [1, 2, 3, [88, 5]]\n"
     ]
    }
   ],
   "source": [
    "import copy\n",
    "\n",
    "original = [1, 2, 3, [4, 5]]\n",
    "deep_copy = copy.deepcopy(original)\n",
    "\n",
    "# Modify nested element in copy\n",
    "deep_copy[3][0] = 88\n",
    "\n",
    "print(f\"Original: {original}\")    # [1, 2, 3, [4, 5]] - Unchanged!\n",
    "print(f\"Deep copy: {deep_copy}\")  # [1, 2, 3, [88, 5]]"
   ]
  },
  {
   "cell_type": "markdown",
   "id": "f395b0c0",
   "metadata": {},
   "source": [
    "**Key Point:** `deepcopy()` creates new copies of all nested objects, so changes in the copy never affect the original list, regardless of how deeply nested they are."
   ]
  },
  {
   "cell_type": "markdown",
   "id": "18b80779",
   "metadata": {},
   "source": [
    "## 6. Built-in Functions\n",
    "\n",
    "### Basic Statistical Functions\n",
    "\n",
    "Built-in functions for mathematical operations on lists."
   ]
  },
  {
   "cell_type": "code",
   "execution_count": 18,
   "id": "0937b3da",
   "metadata": {},
   "outputs": [
    {
     "name": "stdout",
     "output_type": "stream",
     "text": [
      "List: [3, 1, 4, 1, 5, 9, 2]\n",
      "Maximum: 9\n",
      "Minimum: 1\n",
      "Sum: 25\n",
      "Length: 7\n"
     ]
    }
   ],
   "source": [
    "my_list = [3, 1, 4, 1, 5, 9, 2]\n",
    "print(\"List:\", my_list)\n",
    "\n",
    "print(f\"Maximum: {max(my_list)}\")\n",
    "print(f\"Minimum: {min(my_list)}\")\n",
    "print(f\"Sum: {sum(my_list)}\")\n",
    "print(f\"Length: {len(my_list)}\")"
   ]
  },
  {
   "cell_type": "markdown",
   "id": "c4a41a2b",
   "metadata": {},
   "source": [
    "### Reversed and Enumerated\n",
    "\n",
    "Using reversed() and enumerate() for iteration control."
   ]
  },
  {
   "cell_type": "code",
   "execution_count": 19,
   "id": "915ad074",
   "metadata": {},
   "outputs": [
    {
     "name": "stdout",
     "output_type": "stream",
     "text": [
      "Original: [1, 2, 3, 4, 5]\n",
      "Reversed_iterator: <list_reverseiterator object at 0x110681f60>\n",
      "Reversed: [5, 4, 3, 2, 1]\n",
      "\n",
      "Enumerated list:\n",
      "Index 0: 1\n",
      "Index 1: 2\n",
      "Index 2: 3\n",
      "Index 3: 4\n",
      "Index 4: 5\n",
      "\n",
      "Enumerated with start=1:\n",
      "Position 1: 1\n",
      "Position 2: 2\n",
      "Position 3: 3\n",
      "Position 4: 4\n",
      "Position 5: 5\n"
     ]
    }
   ],
   "source": [
    "my_list = [1, 2, 3, 4, 5]\n",
    "\n",
    "# reversed() returns iterator\n",
    "reversed_iterator = reversed(my_list)\n",
    "reversed_list = list(reversed_iterator)\n",
    "print(\"Original:\", my_list)\n",
    "print(\"Reversed_iterator:\", reversed_iterator)\n",
    "print(\"Reversed:\", reversed_list)\n",
    "\n",
    "# enumerate() for index-value pairs\n",
    "print(\"\\nEnumerated list:\")\n",
    "for index, value in enumerate(my_list):\n",
    "    print(f\"Index {index}: {value}\")\n",
    "\n",
    "# enumerate with start parameter\n",
    "print(\"\\nEnumerated with start=1:\")\n",
    "for index, value in enumerate(my_list, start=1):\n",
    "    print(f\"Position {index}: {value}\")"
   ]
  },
  {
   "cell_type": "markdown",
   "id": "2041f81f",
   "metadata": {},
   "source": [
    "### **What is an Iterator?**\n",
    "\n",
    "An **iterator** is a special object that produces elements one at a time, on demand, rather than storing all elements in memory at once.\n",
    "\n",
    "## **`reversed()` Returns an Iterator - Not a List**\n",
    "\n",
    "```python\n",
    "my_list = [1, 2, 3, 4, 5]\n",
    "\n",
    "# reversed() gives you an ITERATOR, not the actual reversed list\n",
    "reversed_iterator = reversed(my_list)\n",
    "print(reversed_iterator)  # <list_reverseiterator object at 0x...>\n",
    "\n",
    "# This iterator KNOWS how to give you elements in reverse order, \n",
    "# but hasn't actually created the reversed list yet\n",
    "```\n",
    "\n",
    "## **How It Works:**\n",
    "\n",
    "**Think of it like a \"reverse element dispenser\":**\n",
    "- The iterator **knows the original list** `[1, 2, 3, 4, 5]`\n",
    "- It **knows how to traverse backwards** (from 5 to 1)\n",
    "- But it **hasn't created the reversed list** `[5, 4, 3, 2, 1]` in memory yet\n",
    "- It **gives you elements one by one** when you ask for them\n",
    "\n",
    "## **Memory Efficiency Example:**\n",
    "\n",
    "```python\n",
    "# Memory-inefficient way (creates entire new list):\n",
    "reversed_list = my_list[::-1]  # Creates [5, 4, 3, 2, 1] immediately\n",
    "\n",
    "# Memory-efficient way (iterator gives elements on demand):\n",
    "reversed_iterator = reversed(my_list)  # No new list created yet\n",
    "```\n",
    "\n",
    "## **When Elements Are Actually Retrieved:**\n",
    "\n",
    "```python\n",
    "my_list = [1, 2, 3, 4, 5]\n",
    "reversed_iterator = reversed(my_list)\n",
    "\n",
    "# Only when you ITERATE does it actually produce elements:\n",
    "for num in reversed_iterator:\n",
    "    print(num)  # Prints: 5, then 4, then 3, then 2, then 1\n",
    "\n",
    "# Or when you convert to list:\n",
    "reversed_list = list(reversed_iterator)  # NOW it creates the actual list\n",
    "```\n",
    "\n",
    "## **Key Advantage:**\n",
    "- **Memory efficient** - doesn't duplicate data until needed\n",
    "- **Lazy evaluation** - computes elements only when requested\n",
    "- **Works with large lists** without consuming extra memory\n",
    "\n",
    "The iterator is like a **recipe** for making the reversed list, not the reversed list itself!"
   ]
  },
  {
   "cell_type": "markdown",
   "id": "18999e27",
   "metadata": {},
   "source": [
    "### Any and All Functions\n",
    "\n",
    "Boolean functions for checking conditions across lists."
   ]
  },
  {
   "cell_type": "code",
   "execution_count": 20,
   "id": "8b8b10e6",
   "metadata": {},
   "outputs": [
    {
     "name": "stdout",
     "output_type": "stream",
     "text": [
      "any([0, 0, 0, 2, 0]): True\n",
      "any([0, 0, 0, 0, 0]): False\n"
     ]
    }
   ],
   "source": [
    "# any() - returns True if any element is True\n",
    "numbers = [0, 0, 0, 2, 0]\n",
    "print(f\"any([0, 0, 0, 2, 0]): {any(numbers)}\")\n",
    "\n",
    "numbers = [0, 0, 0, 0, 0]\n",
    "print(f\"any([0, 0, 0, 0, 0]): {any(numbers)}\")"
   ]
  },
  {
   "cell_type": "code",
   "execution_count": 21,
   "id": "b023c64f",
   "metadata": {},
   "outputs": [
    {
     "name": "stdout",
     "output_type": "stream",
     "text": [
      "all([1, 1, 1, 1, 2]): True\n",
      "all([1, 1, 0, 1, 1]): False\n"
     ]
    }
   ],
   "source": [
    "# all() - returns True if all elements are True\n",
    "numbers = [1, 1, 1, 1, 2]\n",
    "print(f\"all([1, 1, 1, 1, 2]): {all(numbers)}\")\n",
    "\n",
    "numbers = [1, 1, 0, 1, 1]\n",
    "print(f\"all([1, 1, 0, 1, 1]): {all(numbers)}\")"
   ]
  },
  {
   "cell_type": "code",
   "execution_count": 22,
   "id": "03358576",
   "metadata": {},
   "outputs": [
    {
     "name": "stdout",
     "output_type": "stream",
     "text": [
      "Any score > 95? False\n",
      "All scores > 60? True\n"
     ]
    }
   ],
   "source": [
    "# Practical examples\n",
    "scores = [85, 92, 78, 90, 65]\n",
    "print(f\"Any score > 95? {any(score > 95 for score in scores)}\")\n",
    "print(f\"All scores > 60? {all(score > 60 for score in scores)}\")"
   ]
  },
  {
   "cell_type": "code",
   "execution_count": 23,
   "id": "ca041846",
   "metadata": {},
   "outputs": [
    {
     "data": {
      "text/plain": [
       "{False, True}"
      ]
     },
     "execution_count": 23,
     "metadata": {},
     "output_type": "execute_result"
    }
   ],
   "source": [
    "{score > 65 for score in scores} # returns a set containing False and True"
   ]
  },
  {
   "cell_type": "code",
   "execution_count": 24,
   "id": "8e91f657",
   "metadata": {},
   "outputs": [
    {
     "data": {
      "text/plain": [
       "True"
      ]
     },
     "execution_count": 24,
     "metadata": {},
     "output_type": "execute_result"
    }
   ],
   "source": [
    "any({False, True})"
   ]
  },
  {
   "cell_type": "code",
   "execution_count": 25,
   "id": "41f9b35c",
   "metadata": {},
   "outputs": [
    {
     "data": {
      "text/plain": [
       "False"
      ]
     },
     "execution_count": 25,
     "metadata": {},
     "output_type": "execute_result"
    }
   ],
   "source": [
    "all({False, True})"
   ]
  },
  {
   "cell_type": "markdown",
   "id": "6ff3d404",
   "metadata": {},
   "source": [
    "### **Follow-Up: Practice Writing Meaningful Assertions**\n",
    "\n",
    "In our last class, we discussed several techniques for writing meaningful assertions. Now it's time to put that theory into practice.\n",
    "\n",
    "**Your task:** For each list function we're learning, write 2-3 focused assertions that test:\n",
    "\n",
    "- **Core functionality** - Does it work as expected in normal cases?\n",
    "- **Edge cases** - How does it handle boundaries or unusual inputs?\n",
    "- **Side effects** - What changes (or doesn't change) in the original list?\n",
    "\n",
    "**Remember our key principles:**\n",
    "- One clear behavior per assertion\n",
    "- Test both success and failure scenarios\n",
    "- Verify not just return values, but also list modifications\n",
    "\n",
    "This practice will transform how you understand and work with Python's built-in functions. Start applying these concepts with the functions we covered today!"
   ]
  },
  {
   "cell_type": "code",
   "execution_count": null,
   "id": "cdd88e75",
   "metadata": {},
   "outputs": [],
   "source": []
  }
 ],
 "metadata": {
  "kernelspec": {
   "display_name": "Python 3 (ipykernel)",
   "language": "python",
   "name": "python3"
  },
  "language_info": {
   "codemirror_mode": {
    "name": "ipython",
    "version": 3
   },
   "file_extension": ".py",
   "mimetype": "text/x-python",
   "name": "python",
   "nbconvert_exporter": "python",
   "pygments_lexer": "ipython3",
   "version": "3.10.2"
  }
 },
 "nbformat": 4,
 "nbformat_minor": 5
}
